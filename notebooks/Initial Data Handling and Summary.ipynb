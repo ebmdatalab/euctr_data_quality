{
 "cells": [
  {
   "cell_type": "code",
   "execution_count": null,
   "id": "2ce8bc29-f2f0-40be-aa3a-b4b7cc9c7023",
   "metadata": {},
   "outputs": [],
   "source": [
    "import pandas as pd\n",
    "\n",
    "from lib.functions_data import nca_name_mapping, earliest_record_check"
   ]
  },
  {
   "cell_type": "code",
   "execution_count": null,
   "id": "de0438c1-7f8d-4b1e-b3e4-acacf9157327",
   "metadata": {},
   "outputs": [],
   "source": [
    "import sys\n",
    "from pathlib import Path\n",
    "import os\n",
    "cwd = os.getcwd()\n",
    "parent = str(Path(cwd).parents[0])\n",
    "sys.path.append(parent)\n",
    "\n",
    "%matplotlib inline\n",
    "%load_ext autoreload\n",
    "%autoreload 2"
   ]
  },
  {
   "cell_type": "markdown",
   "id": "5bd17404-f245-4924-aa7b-f8316af4da9f",
   "metadata": {},
   "source": [
    "To avoid pulling the full dataset down each time we re-run the notebook, a CSV of the cut-down dataset is saved for easier reloading."
   ]
  },
  {
   "cell_type": "code",
   "execution_count": null,
   "id": "7bc31ef4-cde4-4d19-85f9-32fd92509f39",
   "metadata": {},
   "outputs": [],
   "source": [
    "#Checking for the cut of the full dataset and creating it if it doesn't exist:\n",
    "try:\n",
    "    dec = pd.read_csv(parent + '/data/dec_euctr_extract.csv').drop('Unnamed: 0', axis=1)\n",
    "except FileNotFoundError:\n",
    "    cols = ['eudract_number_with_country', 'date_of_competent_authority_decision', \n",
    "            'clinical_trial_type', 'national_competent_authority', 'eudract_number',\n",
    "            'date_on_which_this_record_was_first_entered_in_the_eudract_data',\n",
    "            'trial_status', 'date_of_the_global_end_of_the_trial', 'trial_results']\n",
    "\n",
    "    #You can use this URL if you want to download the full raw data\n",
    "    data_link = 'https://www.dropbox.com/s/4qt0msiipyn7crm/euctr_euctr_dump-2020-12-03-095517.csv.zip?dl=1'\n",
    "\n",
    "    dec = pd.read_csv(data_link, compression='zip', low_memory=False, usecols=cols)\n",
    "    dec.to_csv(parent + '/data/dec_euctr_extract.csv')"
   ]
  },
  {
   "cell_type": "code",
   "execution_count": null,
   "id": "197923f0-5872-49e2-b9ea-35371279c2f5",
   "metadata": {},
   "outputs": [],
   "source": [
    "#Quick look at the spread of trial statuses on the EUCTR without any exclusions\n",
    "dec.trial_status.value_counts(dropna=False)"
   ]
  },
  {
   "cell_type": "markdown",
   "id": "179b69ad-47af-4c3b-9008-8f4d326a8763",
   "metadata": {},
   "source": [
    "The \"date_of_competent_authority_decision\" field has 2 nonsensical year values in which the correct value can reasonably be derived from context. We fix those below:\n",
    "\n",
    "https://www.clinicaltrialsregister.eu/ctr-search/trial/2009-016759-22/DK\n",
    "\n",
    "https://www.clinicaltrialsregister.eu/ctr-search/trial/2006-006947-30/FR"
   ]
  },
  {
   "cell_type": "code",
   "execution_count": null,
   "id": "d10f0e9a-6efb-41aa-8505-b58ec87b1231",
   "metadata": {},
   "outputs": [],
   "source": [
    "ind = dec[dec.date_of_competent_authority_decision.notnull() & \n",
    "          dec.date_of_competent_authority_decision.str.contains('210')].index\n",
    "ind = ind.to_list()[0]\n",
    "\n",
    "ind_2 = dec[dec.date_of_competent_authority_decision.notnull() & \n",
    "            dec.date_of_competent_authority_decision.str.contains('2077')].index\n",
    "ind_2 = ind_2.to_list()[0]\n",
    "\n",
    "dec.at[ind, 'date_of_competent_authority_decision'] = '2010-06-18'\n",
    "dec.at[ind_2, 'date_of_competent_authority_decision'] = '2007-04-05'"
   ]
  },
  {
   "cell_type": "code",
   "execution_count": null,
   "id": "1c0e346c-27ba-4333-b232-545af3795e1a",
   "metadata": {},
   "outputs": [],
   "source": [
    "#get rid of all protocols from non EU/EEA countries\n",
    "dec_filt = dec[dec.clinical_trial_type != 'Outside EU/EEA'].reset_index(drop=True)\n",
    "\n",
    "#lets see how many that is:\n",
    "print(len(dec) - len(dec_filt))"
   ]
  },
  {
   "cell_type": "code",
   "execution_count": null,
   "id": "33998995-a539-4cb7-9fbb-af54bf2c9101",
   "metadata": {},
   "outputs": [],
   "source": [
    "dec_ctas = dec[['eudract_number', 'eudract_number_with_country']].groupby('eudract_number').count()['eudract_number_with_country']\n",
    "\n",
    "print(f'There are {len(dec_ctas)} registered trials and {dec_ctas.sum()} CTAs including non-EU/EEA CTAs')"
   ]
  },
  {
   "cell_type": "code",
   "execution_count": null,
   "id": "1505c98c-0a17-4769-b39a-225bdee63c03",
   "metadata": {},
   "outputs": [],
   "source": [
    "decf_ctas = dec_filt[['eudract_number', 'eudract_number_with_country']].groupby('eudract_number').count()['eudract_number_with_country']\n",
    "\n",
    "print(f'There are {len(decf_ctas)} registered trials and {decf_ctas.sum()} CTAs excluding non-EU/EEA CTAs')"
   ]
  },
  {
   "cell_type": "code",
   "execution_count": null,
   "id": "a13a703a-6d22-43fd-80e9-16246c19d381",
   "metadata": {},
   "outputs": [],
   "source": [
    "#Making dates into dates and adding a column of just the \"Year\" for relevant dates\n",
    "\n",
    "dec_filt['date_on_which_this_record_was_first_entered_in_the_eudract_data'] = pd.to_datetime(dec_filt['date_on_which_this_record_was_first_entered_in_the_eudract_data'])\n",
    "dec_filt['entered_year'] = dec_filt['date_on_which_this_record_was_first_entered_in_the_eudract_data'].dt.year\n",
    "\n",
    "dec_filt['date_of_competent_authority_decision'] = pd.to_datetime(dec_filt['date_of_competent_authority_decision'])\n",
    "dec_filt['approved_year'] = dec_filt['date_of_competent_authority_decision'].dt.year"
   ]
  },
  {
   "cell_type": "code",
   "execution_count": null,
   "id": "42f1d1f0-7298-477f-bf4d-b44e179429df",
   "metadata": {},
   "outputs": [],
   "source": [
    "#Creating a copy of the original dataset we can mess with and\n",
    "#renaming columns to better variable names\n",
    "\n",
    "analysis_df = dec_filt.copy()\n",
    "analysis_df.columns = ['eudract_number_country', \n",
    "                       'approved_date', \n",
    "                       'clinical_trial_type', \n",
    "                       'nca', \n",
    "                       'eudract_number', \n",
    "                       'date_entered', \n",
    "                       'trial_status', \n",
    "                       'completion_date', \n",
    "                       'trial_results', \n",
    "                       'entered_year', \n",
    "                       'approved_year']\n",
    "\n",
    "#And update the NCA names to the more accurate recent names\n",
    "\n",
    "analysis_df['nca'] = analysis_df['nca'].replace(nca_name_mapping)"
   ]
  },
  {
   "cell_type": "code",
   "execution_count": null,
   "id": "9074c145-9767-4f48-bb89-a93721228c57",
   "metadata": {},
   "outputs": [],
   "source": [
    "#Table 1\n",
    "analysis_df[['nca', 'eudract_number_country']].groupby('nca').count()"
   ]
  },
  {
   "cell_type": "code",
   "execution_count": null,
   "id": "bbb566b3-3e99-4e63-bdae-12e1eba14698",
   "metadata": {},
   "outputs": [],
   "source": [
    "#You can reproduce the data on the earliest registered protocol (For table 1) for each country by running \n",
    "#this function with the appropriate country abbreviation. For example, to get the date for Italy:\n",
    "\n",
    "print(earliest_record_check(analysis_df, 'Italy - AIFA'))\n",
    "\n",
    "#Uncomment this to get the date for all countries at once\n",
    "#for abrev in country_abrevs.keys():\n",
    "#    print(f'Country: {abrev}\\nEarliest record date: {earliest_record_check(dec_filt, abrev)}')"
   ]
  },
  {
   "cell_type": "code",
   "execution_count": null,
   "id": "e57544fc-8844-496f-b2b0-bd2701a3c11e",
   "metadata": {},
   "outputs": [],
   "source": [
    "analysis_df.head()"
   ]
  },
  {
   "cell_type": "code",
   "execution_count": null,
   "id": "501f2487-e8d6-4aa3-bedc-6a77c31a87ae",
   "metadata": {},
   "outputs": [],
   "source": [
    "#To save the main analysis df for use by the other notebooks. Only need to run this once the first time.\n",
    "#analysis_df.to_csv(parent + '/data/analysis_df.csv')"
   ]
  },
  {
   "cell_type": "code",
   "execution_count": null,
   "id": "be3df12f-27e4-45e5-b4cc-3c03ed4a0b31",
   "metadata": {
    "lines_to_next_cell": 2
   },
   "outputs": [],
   "source": [
    "#lastly this is helpful to have the country names, both the original ones from the EUCTR and the \n",
    "#current ones, in ordered lists.\n",
    "#We're going to make these available as variables to import in the lib file manually\n",
    "#But you can see what they look like here:\n",
    "ordered_countries_original = list(dec_filt.national_competent_authority.value_counts().index)\n",
    "ordered_countries_new = list(analysis_df.nca.value_counts().index)"
   ]
  },
  {
   "cell_type": "code",
   "execution_count": null,
   "id": "946ba28c-5eca-47fa-80a0-6b2d259efc3d",
   "metadata": {},
   "outputs": [],
   "source": [
    "\n"
   ]
  }
 ],
 "metadata": {
  "jupytext": {
   "cell_metadata_filter": "all",
   "notebook_metadata_filter": "all,-language_info",
   "text_representation": {
    "extension": ".py",
    "format_name": "light",
    "format_version": "1.5",
    "jupytext_version": "1.11.2"
   }
  },
  "kernelspec": {
   "display_name": "Python 3",
   "language": "python",
   "name": "python3"
  },
  "language_info": {
   "codemirror_mode": {
    "name": "ipython",
    "version": 3
   },
   "file_extension": ".py",
   "mimetype": "text/x-python",
   "name": "python",
   "nbconvert_exporter": "python",
   "pygments_lexer": "ipython3",
   "version": "3.8.1"
  }
 },
 "nbformat": 4,
 "nbformat_minor": 5
}
