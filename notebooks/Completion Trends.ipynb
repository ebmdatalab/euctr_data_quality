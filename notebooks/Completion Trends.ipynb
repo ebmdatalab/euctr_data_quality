{
 "cells": [
  {
   "cell_type": "code",
   "execution_count": null,
   "id": "fdd40023-a1b8-440a-9b60-ec253335a540",
   "metadata": {},
   "outputs": [],
   "source": [
    "import pandas as pd\n",
    "import matplotlib.pyplot as plt\n",
    "import numpy as np\n",
    "\n",
    "from lib.functions_data import ordered_countries_original, ordered_countries_new, is_ongoing, zero_out_dict"
   ]
  },
  {
   "cell_type": "code",
   "execution_count": null,
   "id": "5cb3de06-ec39-4e89-9289-9861dc909be8",
   "metadata": {},
   "outputs": [],
   "source": [
    "import sys\n",
    "from pathlib import Path\n",
    "import os\n",
    "cwd = os.getcwd()\n",
    "parent = str(Path(cwd).parents[0])\n",
    "sys.path.append(parent)\n",
    "\n",
    "%matplotlib inline\n",
    "%load_ext autoreload\n",
    "%autoreload 2"
   ]
  },
  {
   "cell_type": "code",
   "execution_count": null,
   "id": "a8f21ce9-5a1e-4c42-8cd9-5e11d4f6f5b1",
   "metadata": {},
   "outputs": [],
   "source": [
    "usecols=['eudract_number', 'nca', 'entered_year', 'trial_status']\n",
    "status_df = pd.read_csv(parent + '/data/analysis_df.csv', usecols = usecols)\n",
    "status_df['trial_status'] = status_df.trial_status.fillna('Missing')\n",
    "\n",
    "status_group = status_df.groupby(['nca', 'entered_year', 'trial_status'], as_index=False).count()"
   ]
  },
  {
   "cell_type": "code",
   "execution_count": null,
   "id": "bdc9dc9f-8c18-48b7-8ae1-99f0d6743114",
   "metadata": {},
   "outputs": [],
   "source": [
    "ordered_countries = list(status_group[['nca', 'eudract_number']].groupby('nca').sum().sort_values(by='eudract_number', ascending=False).index)\n",
    "\n",
    "#Removing these for low number of trials\n",
    "ordered_countries.remove('Malta - ADM')\n",
    "ordered_countries.remove('Luxembourg - Ministry of Health')\n",
    "ordered_countries.remove('Cyprus - MoH-Ph.S')"
   ]
  },
  {
   "cell_type": "code",
   "execution_count": null,
   "id": "b26e94bb-2a61-43b6-8bf6-3ddb8562ae3e",
   "metadata": {},
   "outputs": [],
   "source": [
    "#Collapsing the various trial status categories on the EUCTR into simpler categories\n",
    "country_status = {}\n",
    "\n",
    "for c in status_group.nca.unique():\n",
    "    country_dict = {}\n",
    "    country = status_group[status_group.nca == c]\n",
    "    \n",
    "    completed = country[country.trial_status.isin(['Completed', 'Prematurely Ended'])][['entered_year', 'eudract_number']].groupby('entered_year').sum()\n",
    "    comp_dict = completed.to_dict()['eudract_number']\n",
    "    country_dict['completed'] = zero_out_dict(comp_dict, range(2004,2021))\n",
    "    \n",
    "    ongoing = country[country.trial_status.isin(['Ongoing', 'Restarted'])][['entered_year', 'eudract_number']].groupby('entered_year').sum()\n",
    "    ong_dict = ongoing.to_dict()['eudract_number']\n",
    "    country_dict['ongoing'] = zero_out_dict(ong_dict, range(2004,2021))\n",
    "    \n",
    "    missing = country[country.trial_status == 'Missing']\n",
    "    missing_dict = pd.Series(missing.eudract_number.values, index=missing.entered_year).to_dict()\n",
    "    country_dict['missing'] = zero_out_dict(missing_dict, range(2004,2021))\n",
    "    \n",
    "    other = country[~country.trial_status.isin(['Completed', 'Ongoing', 'Restarted', 'Prematurely Ended', 'Missing'])][['entered_year', 'eudract_number']].groupby('entered_year').sum()\n",
    "    other_dict = other.to_dict()['eudract_number']\n",
    "    country_dict['other'] = zero_out_dict(other_dict, range(2004,2021))\n",
    "    \n",
    "    country_status[c] = country_dict"
   ]
  },
  {
   "cell_type": "code",
   "execution_count": null,
   "id": "c2dc0042-a78e-459e-b4c3-117d17c1203e",
   "metadata": {},
   "outputs": [],
   "source": [
    "#Shaping up the final data so it's easy to use\n",
    "\n",
    "regrouped = pd.DataFrame.from_dict(country_status, orient='index').stack().to_frame()[0].apply(pd.Series).reindex(\n",
    "    ['completed', 'ongoing', 'other', 'missing'], level=1)"
   ]
  },
  {
   "cell_type": "markdown",
   "id": "dd6dec50-9fee-44c1-b999-64c633cdc792",
   "metadata": {},
   "source": [
    "# Overall Trend in Completion Status - Supplemental Figure 6"
   ]
  },
  {
   "cell_type": "code",
   "execution_count": null,
   "id": "22f8acd3-c30d-4769-99b6-e7221eaba8d4",
   "metadata": {},
   "outputs": [],
   "source": [
    "#A glance at the overall trend\n",
    "\n",
    "grouped_total = regrouped.droplevel(level=0).groupby(regrouped.droplevel(level=0).index).sum()\n",
    "\n",
    "title='Trend in Trial Status of Registered Protocols'\n",
    "\n",
    "\n",
    "fig, ax = plt.subplots(figsize = (10,5), dpi=400)\n",
    "grouped_total.reindex(['completed', 'ongoing', 'missing', 'other']).T.plot.bar(stacked=True, width=.9, ax=ax, \n",
    "                                                                               rot=45, title = title, \n",
    "                                                                               legend=False)\n",
    "\n",
    "ax.set_axisbelow(True)\n",
    "ax.grid(axis='y', zorder=0)\n",
    "ax.set_xlabel('Record Entry Year', labelpad=10)\n",
    "ax.set_ylabel('Record Count')\n",
    "\n",
    "plt.legend(['Completed', 'Ongoing', 'Other', 'Missing'], \n",
    "           loc='upper center', ncol=5, bbox_to_anchor = (0.5, -0.2), fontsize=12)\n",
    "plt.show()\n",
    "#fig.savefig(parent + '/data/Figures/fig_s6.jpg', bbox_inches='tight', dpi=400)\n",
    "#Saved"
   ]
  },
  {
   "cell_type": "markdown",
   "id": "c4fce53b-e67d-424d-b536-a37692899517",
   "metadata": {},
   "source": [
    "# Key Statistics"
   ]
  },
  {
   "cell_type": "code",
   "execution_count": null,
   "id": "fec3b208-26d4-4684-8f2a-a87f23af81b8",
   "metadata": {},
   "outputs": [],
   "source": [
    "#What is the distribution of completed trials by year?\n",
    "\n",
    "g_total = grouped_total.T\n",
    "g_total['prct'] = round((g_total['completed'] / (g_total['ongoing'] + g_total['completed'] + g_total['missing'] + g_total['other'])) * 100,2)\n",
    "g_total"
   ]
  },
  {
   "cell_type": "code",
   "execution_count": null,
   "id": "f4728980-6db1-4220-bfe2-c72f236f2241",
   "metadata": {},
   "outputs": [],
   "source": [
    "#What percent of all protocols are in a completed status\n",
    "\n",
    "print(f'There are {grouped_total.sum(axis=1)[\"completed\"]} completed protocols')\n",
    "print(f'There are {grouped_total.sum(axis=1).sum()} total protocols')\n",
    "print(f'{round((grouped_total.sum(axis=1)[\"completed\"]/grouped_total.sum(axis=1).sum())*100,2)}% are completed')"
   ]
  },
  {
   "cell_type": "code",
   "execution_count": null,
   "id": "b97eff34-5985-41c0-bc55-069177803522",
   "metadata": {},
   "outputs": [],
   "source": [
    "#What is the distribution of completed trials by country?\n",
    "\n",
    "overall_prct_dict = {}\n",
    "\n",
    "for x in ordered_countries:\n",
    "    g = regrouped.loc[[x]].droplevel(level=0).T\n",
    "    num = g.completed.sum()\n",
    "    denom = num + g.ongoing.sum() + g.missing.sum() + g.other.sum()\n",
    "    overall_prct_dict[x] = num / denom\n",
    "\n",
    "rankings_completed = pd.Series(overall_prct_dict).sort_values(ascending=False)\n",
    "rankings_completed"
   ]
  },
  {
   "cell_type": "code",
   "execution_count": null,
   "id": "418e8a3a-6462-4ea9-a0c1-7181a82f9c9a",
   "metadata": {},
   "outputs": [],
   "source": [
    "print(f'{round((len(rankings_completed[rankings_completed > .652]) / len(rankings_completed)) * 100,2)}% of countried exceed the overall mark')"
   ]
  },
  {
   "cell_type": "markdown",
   "id": "974e261e-a5b3-437e-af34-afaee7c560ce",
   "metadata": {},
   "source": [
    "# Status trends for every country - Supplemental Figure 7"
   ]
  },
  {
   "cell_type": "code",
   "execution_count": null,
   "id": "cc3f8778-3748-4a89-b52d-50f1b1f2ae3d",
   "metadata": {},
   "outputs": [],
   "source": [
    "fig, axes = plt.subplots(figsize = (20, 16), nrows=7, ncols=4, dpi=400)\n",
    "fig.suptitle(\"Trial Status Trends by Country Regulator\", y=1.02, fontsize=23)\n",
    "fig.tight_layout()\n",
    "for x, y in enumerate(fig.axes):\n",
    "    regrouped.loc[[rankings_completed.index[x]]].droplevel(level=0).T.plot.bar(stacked=True, ax=y, width=.85, \n",
    "                                                                               legend=False, sharex='col', rot=45)\n",
    "    \n",
    "    y.set_title(rankings_completed.index[x], pad=6, fontsize=16)\n",
    "    y.set_axisbelow(True)\n",
    "    y.grid(axis='y', zorder=0)\n",
    "    y.set_xlabel('')\n",
    "    \n",
    "    hatches = ['','//', 'oo', '\\\\\\\\']\n",
    "    counter = 0\n",
    "    h_counter = 0\n",
    "    patch_count = len(y.patches)\n",
    "    for p in y.patches:\n",
    "        p.set_hatch(hatches[h_counter])\n",
    "        counter += 1\n",
    "        if counter == ((patch_count/4) * (h_counter+1)):\n",
    "            h_counter += 1\n",
    "            \n",
    "\n",
    "fig.text(-0.015, 0.5, 'Record Count', ha='center', va='center', rotation='vertical', fontsize=20)\n",
    "fig.text(.5, -0.025, 'Record Entry Year', ha='center', va='center', fontsize=20)\n",
    "\n",
    "plt.legend(['Completed', 'Ongoing', 'Other', 'Missing'], \n",
    "           loc='upper center', ncol=5, bbox_to_anchor = (-1.2, -.55), fontsize=15)\n",
    "\n",
    "plt.show()\n",
    "fig.savefig(parent + '/data/Figures/fig_s7.jpg', bbox_inches='tight', dpi=400)\n",
    "#Saved"
   ]
  },
  {
   "cell_type": "markdown",
   "id": "5ffa9697-f904-4288-b279-45e3889725b5",
   "metadata": {},
   "source": [
    "# Figure 4a\n",
    "\n",
    "Now limiting it just to the examples we are pulling out into the paper."
   ]
  },
  {
   "cell_type": "code",
   "execution_count": null,
   "id": "de0fb7dc-e783-45b1-935b-29279ae53625",
   "metadata": {},
   "outputs": [],
   "source": [
    "#Pull out the highlighted countries\n",
    "\n",
    "fig, axes = plt.subplots(figsize = (20, 3), nrows=1, ncols=4, dpi=400)\n",
    "fig.suptitle(\"(A)\", y=1.04, x=0, fontsize=25)\n",
    "fig.tight_layout()\n",
    "included_countries = ['Lithuania - VVKT', 'Belgium - FAMHP', 'Netherlands - CCMO', 'Spain - AEMPS']\n",
    "\n",
    "for x, y in enumerate(fig.axes):\n",
    "    regrouped.loc[[included_countries[x]]].droplevel(level=0).T.plot.bar(stacked=True, ax=y, width=.85, \n",
    "                                                                               legend=False, sharex='col', rot=45)\n",
    "    \n",
    "    y.set_title(included_countries[x], pad=6, fontsize=16)\n",
    "    y.set_axisbelow(True)\n",
    "    y.grid(axis='y', zorder=0)\n",
    "    y.set_xlabel('')\n",
    "    \n",
    "    hatches = ['','//', 'oo', '\\\\\\\\']\n",
    "    counter = 0\n",
    "    h_counter = 0\n",
    "    patch_count = len(y.patches)\n",
    "    for p in y.patches:\n",
    "        p.set_hatch(hatches[h_counter])\n",
    "        counter += 1\n",
    "        if counter == ((patch_count/4) * (h_counter+1)):\n",
    "            h_counter += 1\n",
    "            \n",
    "\n",
    "fig.text(-0.005, 0.4, 'Record Count', ha='center', va='center', rotation='vertical', fontsize=20)\n",
    "fig.text(.5, -0.13, 'Record Entry Year', ha='center', va='center', fontsize=20)\n",
    "\n",
    "plt.legend(['Completed', 'Ongoing', 'Other', 'Missing'], \n",
    "           loc='upper center', ncol=5, bbox_to_anchor = (-1.2, -.45), fontsize=15)\n",
    "\n",
    "\n",
    "plt.show()\n",
    "#fig.savefig(parent + '/data/Figures/fig_4a.jpg', bbox_inches='tight', dpi=400)\n",
    "#fig.savefig(parent + '/data/Figures/fig_4a.eps', bbox_inches='tight', dpi=400)\n",
    "#Saved"
   ]
  },
  {
   "cell_type": "markdown",
   "id": "148ffe16-4156-4976-8523-ab284b32e534",
   "metadata": {},
   "source": [
    "# Stats on conflicting and problematic trial status data for the paper"
   ]
  },
  {
   "cell_type": "code",
   "execution_count": null,
   "id": "b7f0d949-366f-478a-9321-f84319970588",
   "metadata": {},
   "outputs": [],
   "source": [
    "status_df['trial_status'].value_counts()"
   ]
  },
  {
   "cell_type": "code",
   "execution_count": null,
   "id": "63f9d0be-0cb2-455d-940d-29764a869de0",
   "metadata": {},
   "outputs": [],
   "source": [
    "status_summary = status_df[['eudract_number', 'trial_status']].groupby('eudract_number')['trial_status'].count().to_frame(name='count').join(status_df[['eudract_number', 'trial_status']].groupby('eudract_number')['trial_status'].apply(list).to_frame(name='status'))\n",
    "status_summary['set'] = status_summary['status'].apply(set)\n",
    "multi_status = status_summary[status_summary['count'] > 1].reset_index().set_index('eudract_number')\n",
    "indiv_status = multi_status['set'].to_list()"
   ]
  },
  {
   "cell_type": "code",
   "execution_count": null,
   "id": "cff4d325-f7d8-4bbd-9d89-4b86427b1901",
   "metadata": {},
   "outputs": [],
   "source": [
    "#This counts the number of trials that have an ongoing and a completed status\n",
    "\n",
    "c = 0\n",
    "indicator_var = []\n",
    "\n",
    "#Looking for our \"Ongoing\" or \"Completed\" statuses\n",
    "for i in indiv_status:\n",
    "    if ('Ongoing' in i or 'Restarted' in i) and ('Completed' in i or 'Premautrely Ended' in i):\n",
    "        c+=1\n",
    "        indicator_var.append(1)\n",
    "    else:\n",
    "        indicator_var.append(0)\n",
    "        \n",
    "print(c)"
   ]
  },
  {
   "cell_type": "code",
   "execution_count": null,
   "id": "524e45ba-da35-4dfe-a84c-44a566004a22",
   "metadata": {},
   "outputs": [],
   "source": [
    "print(f'{round((c/len(indiv_status)) * 100,2)}% of multi-protocol trials are in a conflicted status')"
   ]
  },
  {
   "cell_type": "code",
   "execution_count": null,
   "id": "79b15698-8439-4bcc-a136-bef59cc44adc",
   "metadata": {},
   "outputs": [],
   "source": [
    "group_year = status_df[['eudract_number', 'entered_year']].groupby('eudract_number').max()\n",
    "\n",
    "multi_status['conflict'] = indicator_var\n",
    "\n",
    "year_joined = multi_status.join(group_year, how='left')\n",
    "\n",
    "year_joined.head()"
   ]
  },
  {
   "cell_type": "code",
   "execution_count": null,
   "id": "09d773ac-cb94-4c4a-869e-31efae8a067b",
   "metadata": {},
   "outputs": [],
   "source": [
    "conflict_summary = year_joined[['conflict', 'entered_year']].reset_index(drop=True).groupby('entered_year').agg(['sum', 'count'])\n",
    "\n",
    "conflict_summary['prct'] = round((conflict_summary['conflict']['sum'] / conflict_summary['conflict']['count'])*100,2)\n",
    "\n",
    "conflict_summary.head()"
   ]
  },
  {
   "cell_type": "markdown",
   "id": "08293743-9641-4ed9-aa5e-433f78439033",
   "metadata": {},
   "source": [
    "# Supplemental Figure 8"
   ]
  },
  {
   "cell_type": "code",
   "execution_count": null,
   "id": "2b32afba-c1a6-4abd-a43f-0c09d3220e4e",
   "metadata": {},
   "outputs": [],
   "source": [
    "fig, ax = plt.subplots(figsize = (10,5), dpi=400)\n",
    "\n",
    "plt.plot(conflict_summary.index, conflict_summary['prct'], marker='.', markersize=10)\n",
    "plt.grid()\n",
    "plt.xlabel('Record Entry Year', labelpad=10)\n",
    "plt.ylabel('Percent Completed')\n",
    "plt.title('Percent of all Protocols Registered by Year in a Completed Status', pad=10)\n",
    "\n",
    "ax.set_yticks(range(0, 101,10))\n",
    "ax.set_xticks(range(2004,2021))\n",
    "\n",
    "plt.show()\n",
    "#fig.savefig(parent + '/data/Figures/fig_s8.jpg', bbox_inches='tight', dpi=400)\n",
    "#Saved"
   ]
  },
  {
   "cell_type": "markdown",
   "id": "410dcfea-86ba-4ea9-b8c1-5b0632ee111d",
   "metadata": {},
   "source": [
    "What about trials with only a single protocol?"
   ]
  },
  {
   "cell_type": "code",
   "execution_count": null,
   "id": "8300a57d-04b9-4a7a-b05f-f27c304f0297",
   "metadata": {},
   "outputs": [],
   "source": [
    "single_status = status_summary[status_summary['count'] == 1].reset_index().set_index('eudract_number').join(status_df.set_index('eudract_number')[['entered_year']], how='left')\n",
    "\n",
    "single_status['ongoing'] = single_status['status'].apply(is_ongoing)"
   ]
  },
  {
   "cell_type": "code",
   "execution_count": null,
   "id": "9cba00cc-58b1-4d84-b435-1ea60a697225",
   "metadata": {},
   "outputs": [],
   "source": [
    "single_s_grouped = single_status[['count', 'ongoing', 'entered_year']].groupby('entered_year').sum()"
   ]
  },
  {
   "cell_type": "code",
   "execution_count": null,
   "id": "ac277983-a449-492d-8577-e8dcdd8ad387",
   "metadata": {},
   "outputs": [],
   "source": [
    "#How many trials from prior to 2015 are still in an ongoing status?\n",
    "print(single_s_grouped[single_s_grouped.index < 2015].sum())\n",
    "print(round((6086/16552)*100,2))"
   ]
  },
  {
   "cell_type": "markdown",
   "id": "2df09408-78bc-4891-97ee-7284bf7d979d",
   "metadata": {},
   "source": [
    "# Completion date availability trends"
   ]
  },
  {
   "cell_type": "code",
   "execution_count": null,
   "id": "ae5d5764-4d07-4df6-9df0-920af38b4b7d",
   "metadata": {},
   "outputs": [],
   "source": [
    "usecols=['eudract_number', 'nca', 'entered_year', 'trial_status', 'completion_date', 'trial_results']\n",
    "date_df = pd.read_csv(parent + '/data/analysis_df.csv', usecols = usecols)\n",
    "date_df['trial_status'] = date_df.trial_status.fillna('Missing')\n",
    "date_df['has_completion_date'] = np.where(date_df.completion_date.isna(), 0, 1)\n",
    "only_completed = date_df[date_df.trial_status.isin(['Completed', 'Prematurely Ended'])].reset_index(drop=True)"
   ]
  },
  {
   "cell_type": "code",
   "execution_count": null,
   "id": "7ee0ea44-05af-49ea-8132-2150aa8ccafb",
   "metadata": {},
   "outputs": [],
   "source": [
    "total_completed = only_completed[['nca', \n",
    "                                  'entered_year', \n",
    "                                  'has_completion_date']].groupby(['nca', \n",
    "                                                                   'entered_year']).count().rename({'has_completion_date': 'denominator'}, axis=1)\n",
    "\n",
    "total_completed_date = only_completed[['nca', 'entered_year', 'has_completion_date']].groupby(['nca', 'entered_year']).sum().rename({'has_completion_date': 'numerator'}, axis=1)"
   ]
  },
  {
   "cell_type": "code",
   "execution_count": null,
   "id": "e9940ffd-c4fa-452f-8461-935b826fbbed",
   "metadata": {},
   "outputs": [],
   "source": [
    "merged_dates = total_completed.join(total_completed_date)\n",
    "merged_dates['missing_dates'] = merged_dates.denominator - merged_dates.numerator\n",
    "\n",
    "stacked_dates = merged_dates.drop('denominator', axis=1).stack().unstack(1)"
   ]
  },
  {
   "cell_type": "markdown",
   "id": "dd7695df-999b-49b1-bca9-bb4dd3d79820",
   "metadata": {},
   "source": [
    "# Supplemental Figure 9"
   ]
  },
  {
   "cell_type": "code",
   "execution_count": null,
   "id": "b5069501-7182-49cc-9ae2-6cf39aee764f",
   "metadata": {},
   "outputs": [],
   "source": [
    "overall_dates = stacked_dates.droplevel(level=0).groupby(stacked_dates.droplevel(level=0).index).sum()\n",
    "\n",
    "title='Availability of Completion Dates for Completed Protocols'\n",
    "\n",
    "fig, ax = plt.subplots(figsize = (10,5), dpi=400)\n",
    "overall_dates.reindex(['numerator', 'missing_dates']).T.plot.bar(stacked=True, width=.9, ax=ax, legend=False, \n",
    "                                                                 rot=45, title=title)\n",
    "\n",
    "ax.set_axisbelow(True)\n",
    "ax.grid(axis='y', zorder=0)\n",
    "ax.set_xlabel('Record Entry Year', labelpad=10)\n",
    "ax.set_ylabel('Record Count')\n",
    "\n",
    "plt.legend(['Has Date', 'Missing Date'], \n",
    "           loc='upper right', fontsize=12)\n",
    "plt.show()\n",
    "#fig.savefig(parent + '/data/Figures/fig_s9.jpg', bbox_inches='tight', dpi=400)\n",
    "#Saved"
   ]
  },
  {
   "cell_type": "code",
   "execution_count": null,
   "id": "b598813f-cf92-458f-bc97-7c6cf0091125",
   "metadata": {},
   "outputs": [],
   "source": [
    "dates_trans = overall_dates.T\n",
    "dates_trans['prct'] = dates_trans['numerator'] / (dates_trans['numerator'] + dates_trans['missing_dates'])"
   ]
  },
  {
   "cell_type": "code",
   "execution_count": null,
   "id": "79631ce4-8156-40dd-866c-d87226516268",
   "metadata": {},
   "outputs": [],
   "source": [
    "print(dates_trans.missing_dates.sum() + dates_trans.numerator.sum())\n",
    "print(dates_trans.numerator.sum() / (dates_trans.missing_dates.sum() + dates_trans.numerator.sum()))"
   ]
  },
  {
   "cell_type": "code",
   "execution_count": null,
   "id": "dba4c223-e5c3-4036-bc4f-159e6e8ebe8c",
   "metadata": {},
   "outputs": [],
   "source": [
    "overall_comp_dict = {}\n",
    "\n",
    "for x in ordered_countries:\n",
    "    d = stacked_dates.loc[x].T\n",
    "    num = d.numerator.sum()\n",
    "    denom = num + d.missing_dates.sum()\n",
    "    overall_comp_dict[x] = num / denom\n",
    "\n",
    "rankings_compdate = pd.Series(overall_comp_dict).sort_values(ascending=False)\n",
    "rankings_compdate"
   ]
  },
  {
   "cell_type": "markdown",
   "id": "8fa79c6e-1567-49fd-bbf8-f5862a2fd6e9",
   "metadata": {},
   "source": [
    "# Trends in completion data availability by country - Supplemental Figure 10"
   ]
  },
  {
   "cell_type": "code",
   "execution_count": null,
   "id": "ccdae91f-210c-4ce8-a7c7-5beadce67100",
   "metadata": {},
   "outputs": [],
   "source": [
    "fig, axes = plt.subplots(figsize = (20, 16), nrows=7, ncols=4, dpi=400)\n",
    "fig.suptitle(\"Trends in Completion Date Availability by National Regulator\", y=1.02, fontsize=23)\n",
    "fig.tight_layout()\n",
    "\n",
    "for x, y in enumerate(fig.axes):\n",
    "    stacked_dates.loc[[rankings_compdate.index[x]]].droplevel(level=0).T.plot.bar(stacked=True, ax=y, width=.85, \n",
    "                                                                            legend=False, sharex='col', rot=45)\n",
    "\n",
    "    y.set_title(rankings_compdate.index[x], pad=6, fontsize=16)\n",
    "    y.set_axisbelow(True)\n",
    "    y.grid(axis='y', zorder=0)\n",
    "    y.set_xlabel('')\n",
    "    \n",
    "    hatches = ['','//']\n",
    "    counter = 0\n",
    "    h_counter = 0\n",
    "    patch_count = len(y.patches)\n",
    "    for p in y.patches:\n",
    "        p.set_hatch(hatches[h_counter])\n",
    "        counter += 1\n",
    "        if counter == ((patch_count/2) * (h_counter+1)):\n",
    "            h_counter += 1\n",
    "    \n",
    "fig.text(-0.015, 0.5, 'Record Count', ha='center', va='center', rotation='vertical', fontsize=20)\n",
    "fig.text(.5, -0.02, 'Record Entry Year', ha='center', va='center', fontsize=20)\n",
    "    \n",
    "plt.legend(['Has Date', 'Missing Date'], \n",
    "           loc='lower center', ncol=5, bbox_to_anchor = (-1.25, -.9), fontsize=15)\n",
    "\n",
    "plt.show()\n",
    "#fig.savefig(parent + '/data/Figures/fig_s10.jpg', bbox_inches='tight', dpi=400)\n",
    "#Saved"
   ]
  },
  {
   "cell_type": "markdown",
   "id": "3f9c5bbe-737e-405b-b69d-b59f8d6f8372",
   "metadata": {},
   "source": [
    "# Figure 4b"
   ]
  },
  {
   "cell_type": "code",
   "execution_count": null,
   "id": "3b45136c-1bfa-40cc-8639-fb5d0a6d5bff",
   "metadata": {},
   "outputs": [],
   "source": [
    "fig, axes = plt.subplots(figsize = (20, 3), nrows=1, ncols=4, dpi=400)\n",
    "fig.suptitle(\"(B)\", y=1.04, x=0, fontsize=25)\n",
    "fig.tight_layout()\n",
    "included_countries = ['Lithuania - VVKT', 'Belgium - FAMHP', 'Netherlands - CCMO', 'Spain - AEMPS']\n",
    "\n",
    "for x, y in enumerate(fig.axes):\n",
    "    stacked_dates.loc[[included_countries[x]]].droplevel(level=0).T.plot.bar(stacked=True, ax=y, width=.85, \n",
    "                                                                            legend=False, sharex='col', rot=45)\n",
    "\n",
    "    y.set_title(included_countries[x], pad=6, fontsize=16)\n",
    "    y.set_axisbelow(True)\n",
    "    y.grid(axis='y', zorder=0)\n",
    "    y.set_xlabel('')\n",
    "    \n",
    "    hatches = ['','//']\n",
    "    counter = 0\n",
    "    h_counter = 0\n",
    "    patch_count = len(y.patches)\n",
    "    for p in y.patches:\n",
    "        p.set_hatch(hatches[h_counter])\n",
    "        counter += 1\n",
    "        if counter == ((patch_count/2) * (h_counter+1)):\n",
    "            h_counter += 1\n",
    "    \n",
    "fig.text(-.011, 0.4, 'Completed\\n Record Count', ha='center', va='center', rotation='vertical', fontsize=20)\n",
    "fig.text(.5, -.087, 'Record Entry Year', ha='center', va='center', fontsize=20)\n",
    "    \n",
    "plt.legend(['Has Date', 'Missing Date'], \n",
    "           loc='lower center', ncol=5, bbox_to_anchor = (-1.2, -.7), fontsize=15)\n",
    "\n",
    "plt.show()\n",
    "#fig.savefig(parent + '/data/Figures/fig_4b.jpg', bbox_inches='tight', dpi=400)\n",
    "#fig.savefig(parent + '/data/Figures/fig_4b.eps', bbox_inches='tight', dpi=400)\n",
    "#Saved"
   ]
  },
  {
   "cell_type": "markdown",
   "id": "a02b2acc-d5b3-4e59-b30d-413e1a3196df",
   "metadata": {},
   "source": [
    "# Combining Status and Completion Date (Figure 3)"
   ]
  },
  {
   "cell_type": "code",
   "execution_count": null,
   "id": "24fb875a-023a-4e59-9b4e-ca90062f0c5d",
   "metadata": {},
   "outputs": [],
   "source": [
    "usecols2 = ['eudract_number', 'nca', 'entered_year', 'trial_status', 'completion_date', 'trial_results']"
   ]
  },
  {
   "cell_type": "code",
   "execution_count": null,
   "id": "74703212-3f66-466c-8fb0-f03962ff7e0b",
   "metadata": {},
   "outputs": [],
   "source": [
    "usecols2 = ['eudract_number', 'nca', 'entered_year', 'trial_status', 'completion_date', 'trial_results']\n",
    "\n",
    "date_df2 = pd.read_csv(parent + '/data/analysis_df.csv', usecols=usecols2)\n",
    "date_df2['trial_status'] = date_df2.trial_status.fillna('Missing')\n",
    "date_df2['has_completion_date'] = np.where(date_df2.completion_date.isna(), 0, 1)"
   ]
  },
  {
   "cell_type": "code",
   "execution_count": null,
   "id": "824aedd2-6ff6-4c7c-8a3e-42e8813755d5",
   "metadata": {},
   "outputs": [],
   "source": [
    "total_trials = date_df2[['nca', \n",
    "                         'entered_year', \n",
    "                         'has_completion_date']].groupby(['nca', \n",
    "                                                          'entered_year']).count().rename({'has_completion_date': 'denominator'}, axis=1)\n",
    "\n",
    "total_trials_date = only_completed[['nca', 'entered_year', 'has_completion_date']].groupby(['nca', 'entered_year']).sum().rename({'has_completion_date': 'numerator'}, axis=1)\n",
    "\n",
    "merged_dates2 = total_trials.join(total_trials_date)\n",
    "merged_dates2['missing_dates'] = merged_dates2.denominator - merged_dates2.numerator\n",
    "\n",
    "stacked_dates2 = merged_dates2.drop('denominator', axis=1).stack().unstack(1)\n",
    "stacked_dates2.head()"
   ]
  },
  {
   "cell_type": "code",
   "execution_count": null,
   "id": "e6e2dc87-c19c-4b55-af84-ef9d73a9668c",
   "metadata": {},
   "outputs": [],
   "source": [
    "total_comp_dict = {}\n",
    "\n",
    "for x in ordered_countries:\n",
    "    d = stacked_dates2.loc[x].T\n",
    "    num = d.numerator.sum()\n",
    "    denom = num + d.missing_dates.sum()\n",
    "    total_comp_dict[x] = num / denom\n",
    "\n",
    "rankings_compdate2 = pd.Series(total_comp_dict).sort_values(ascending=False)"
   ]
  },
  {
   "cell_type": "code",
   "execution_count": null,
   "id": "ce916b3f-f76b-439e-af97-7035f76b853e",
   "metadata": {},
   "outputs": [],
   "source": [
    "props_for_graph = rankings_completed.to_frame(name='prct_completed').join(rankings_compdate2.to_frame(name='prct_date'))\n",
    "props_for_graph['diff1'] = props_for_graph.prct_completed - props_for_graph.prct_date\n",
    "props_for_graph['diff2'] = 1 - props_for_graph.prct_completed"
   ]
  },
  {
   "cell_type": "code",
   "execution_count": null,
   "id": "345dd393-d30f-4797-9493-af7b6e35c90f",
   "metadata": {
    "lines_to_next_cell": 0
   },
   "outputs": [],
   "source": [
    "fig = plt.figure(figsize = (10,8), dpi=400)\n",
    "ax = fig.add_subplot(111)\n",
    "\n",
    "ax.barh(props_for_graph.index, props_for_graph.prct_date, align='center', height=.5, color='C0', hatch='////', label='Completed & Completion Date')\n",
    "ax.barh(props_for_graph.index, props_for_graph.diff1, align='center', height=.5, color='C0', left=props_for_graph.prct_date, label='Completed & No Date')\n",
    "ax.barh(props_for_graph.index, props_for_graph.diff2, align='center', height=.5, color='C1', left=props_for_graph.prct_completed, label = 'Ongoing and Other')\n",
    "ax.set_xlabel('Proportion of Registered Protocols')\n",
    "ax.tick_params(axis='x', labelsize=9)\n",
    "\n",
    "handles, labels = plt.gca().get_legend_handles_labels()\n",
    "order = [0,1,2]\n",
    "ax.legend([handles[idx] for idx in order],[labels[idx] for idx in order], ncol=3, loc='lower center', bbox_to_anchor = (.5, -.12))\n",
    "\n",
    "ax.spines['top'].set_visible(False)\n",
    "ax.spines['right'].set_visible(False)\n",
    "ax.spines['left'].set_visible(False)\n",
    "\n",
    "#plt.title('')\n",
    "plt.tight_layout()\n",
    "plt.show()\n",
    "#fig.savefig(parent + '/data/Figures/fig_3.jpg', bbox_inches='tight', dpi=400)\n",
    "#fig.savefig(parent + '/data/Figures/fig_3.eps', bbox_inches='tight', dpi=400)\n",
    "#Saved"
   ]
  },
  {
   "cell_type": "markdown",
   "id": "28f2554c-610e-45c5-bdb9-c60690fd5b14",
   "metadata": {},
   "source": [
    "# Stat on conflicting dates"
   ]
  },
  {
   "cell_type": "code",
   "execution_count": null,
   "id": "04af2882-c057-44d0-aba2-dc23f9ceff53",
   "metadata": {},
   "outputs": [],
   "source": [
    "grouped_dates_count = date_df[['eudract_number', 'completion_date']].groupby('eudract_number').agg({'eudract_number': ['count'], 'completion_date': ['nunique', 'count']})"
   ]
  },
  {
   "cell_type": "code",
   "execution_count": null,
   "id": "a49327e6-8285-4565-80a3-f2126a643534",
   "metadata": {},
   "outputs": [],
   "source": [
    "has_dates = grouped_dates_count[grouped_dates_count.completion_date['count'] > 1]"
   ]
  },
  {
   "cell_type": "code",
   "execution_count": null,
   "id": "b4540944-3996-4371-98dd-e1195af90dc1",
   "metadata": {},
   "outputs": [],
   "source": [
    "#Filters\n",
    "all_have_dates = (has_dates.eudract_number['count'] == has_dates.completion_date['count'])\n",
    "consistant_dates = has_dates.completion_date['nunique'] == 1"
   ]
  },
  {
   "cell_type": "code",
   "execution_count": null,
   "id": "1970f1a1-6d2c-4921-8bee-55a1132e3df2",
   "metadata": {
    "lines_to_next_cell": 0
   },
   "outputs": [],
   "source": [
    "print(f'{round((len(has_dates[all_have_dates & consistant_dates])/len(has_dates)) * 100,2)}% of all trials with multiple protocols and at least one completion date are consistent across all protocols')"
   ]
  },
  {
   "cell_type": "code",
   "execution_count": null,
   "id": "c90ba5a1-1946-4e26-82e7-d30f680874d4",
   "metadata": {
    "lines_to_next_cell": 2
   },
   "outputs": [],
   "source": []
  }
 ],
 "metadata": {
  "jupytext": {
   "cell_metadata_filter": "all",
   "notebook_metadata_filter": "all,-language_info",
   "text_representation": {
    "extension": ".py",
    "format_name": "light",
    "format_version": "1.5",
    "jupytext_version": "1.11.2"
   }
  },
  "kernelspec": {
   "display_name": "Python 3",
   "language": "python",
   "name": "python3"
  },
  "language_info": {
   "codemirror_mode": {
    "name": "ipython",
    "version": 3
   },
   "file_extension": ".py",
   "mimetype": "text/x-python",
   "name": "python",
   "nbconvert_exporter": "python",
   "pygments_lexer": "ipython3",
   "version": "3.8.1"
  }
 },
 "nbformat": 4,
 "nbformat_minor": 5
}
