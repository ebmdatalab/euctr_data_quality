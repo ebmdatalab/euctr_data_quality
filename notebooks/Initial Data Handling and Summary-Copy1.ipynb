{
 "cells": [
  {
   "cell_type": "code",
   "execution_count": 1,
   "id": "2ce8bc29-f2f0-40be-aa3a-b4b7cc9c7023",
   "metadata": {},
   "outputs": [],
   "source": [
    "import pandas as pd\n",
    "\n",
    "from lib.functions_data import nca_name_mapping, earliest_record_check"
   ]
  },
  {
   "cell_type": "code",
   "execution_count": 2,
   "id": "de0438c1-7f8d-4b1e-b3e4-acacf9157327",
   "metadata": {},
   "outputs": [],
   "source": [
    "import sys\n",
    "from pathlib import Path\n",
    "import os\n",
    "cwd = os.getcwd()\n",
    "parent = str(Path(cwd).parents[0])\n",
    "sys.path.append(parent)\n",
    "\n",
    "%matplotlib inline\n",
    "%load_ext autoreload\n",
    "%autoreload 2"
   ]
  },
  {
   "cell_type": "markdown",
   "id": "5bd17404-f245-4924-aa7b-f8316af4da9f",
   "metadata": {},
   "source": [
    "To avoid pulling the full dataset down each time we re-run the notebook, a CSV of the cut-down dataset is saved for easier reloading."
   ]
  },
  {
   "cell_type": "code",
   "execution_count": 3,
   "id": "7bc31ef4-cde4-4d19-85f9-32fd92509f39",
   "metadata": {},
   "outputs": [],
   "source": [
    "#Checking for the cut of the full dataset and creating it if it doesn't exist:\n",
    "try:\n",
    "    dec = pd.read_csv(parent + '/data/jul22_euctr_extract.csv').drop('Unnamed: 0', axis=1)\n",
    "except FileNotFoundError:\n",
    "    cols = ['eudract_number_with_country', 'date_of_competent_authority_decision', \n",
    "            'clinical_trial_type', 'national_competent_authority', 'eudract_number',\n",
    "            'date_on_which_this_record_was_first_entered_in_the_eudract_data',\n",
    "            'trial_status', 'date_of_the_global_end_of_the_trial', 'trial_results']\n",
    "\n",
    "    #You can use this URL if you want to download the full raw data\n",
    "    data_link = 'https://www.dropbox.com/s/t41njroo12mx4y2/euctr_euctr_dump-2022-07-02-003206.csv.zip?dl=1'\n",
    "\n",
    "    dec = pd.read_csv(data_link, compression='zip', low_memory=False, usecols=cols)\n",
    "    dec.to_csv(parent + '/data/jul22_euctr_extract.csv')"
   ]
  },
  {
   "cell_type": "code",
   "execution_count": 4,
   "id": "197923f0-5872-49e2-b9ea-35371279c2f5",
   "metadata": {},
   "outputs": [
    {
     "data": {
      "text/plain": [
       "Completed                   63502\n",
       "Ongoing                     27293\n",
       "Prematurely Ended           12966\n",
       "NaN                          2960\n",
       "GB - no longer in EU/EEA     2797\n",
       "Temporarily Halted            520\n",
       "Restarted                     332\n",
       "Not Authorised                 76\n",
       "Prohibited by CA               37\n",
       "Suspended by CA                23\n",
       "Trial now transitioned          6\n",
       "Name: trial_status, dtype: int64"
      ]
     },
     "execution_count": 4,
     "metadata": {},
     "output_type": "execute_result"
    }
   ],
   "source": [
    "#Quick look at the spread of trial statuses on the EUCTR without any exclusions\n",
    "dec.trial_status.value_counts(dropna=False)"
   ]
  },
  {
   "cell_type": "markdown",
   "id": "179b69ad-47af-4c3b-9008-8f4d326a8763",
   "metadata": {},
   "source": [
    "The \"date_of_competent_authority_decision\" field has 2 nonsensical year values in which the correct value can reasonably be derived from context. We fix those below:\n",
    "\n",
    "https://www.clinicaltrialsregister.eu/ctr-search/trial/2009-016759-22/DK\n",
    "\n",
    "https://www.clinicaltrialsregister.eu/ctr-search/trial/2006-006947-30/FR"
   ]
  },
  {
   "cell_type": "code",
   "execution_count": 5,
   "id": "d10f0e9a-6efb-41aa-8505-b58ec87b1231",
   "metadata": {},
   "outputs": [],
   "source": [
    "ind = dec[dec.date_of_competent_authority_decision.notnull() & \n",
    "          dec.date_of_competent_authority_decision.str.contains('210')].index\n",
    "ind = ind.to_list()[0]\n",
    "\n",
    "ind_2 = dec[dec.date_of_competent_authority_decision.notnull() & \n",
    "            dec.date_of_competent_authority_decision.str.contains('2077')].index\n",
    "ind_2 = ind_2.to_list()[0]\n",
    "\n",
    "dec.at[ind, 'date_of_competent_authority_decision'] = '2010-06-18'\n",
    "dec.at[ind_2, 'date_of_competent_authority_decision'] = '2007-04-05'"
   ]
  },
  {
   "cell_type": "code",
   "execution_count": 6,
   "id": "1c0e346c-27ba-4333-b232-545af3795e1a",
   "metadata": {},
   "outputs": [
    {
     "name": "stdout",
     "output_type": "stream",
     "text": [
      "1522\n"
     ]
    }
   ],
   "source": [
    "#get rid of all protocols from non EU/EEA countries\n",
    "dec_filt = dec[dec.clinical_trial_type != 'Outside EU/EEA'].reset_index(drop=True)\n",
    "\n",
    "#lets see how many that is:\n",
    "print(len(dec) - len(dec_filt))"
   ]
  },
  {
   "cell_type": "code",
   "execution_count": 7,
   "id": "33998995-a539-4cb7-9fbb-af54bf2c9101",
   "metadata": {},
   "outputs": [
    {
     "name": "stdout",
     "output_type": "stream",
     "text": [
      "There are 42369 registered trials and 110512 CTAs including non-EU/EEA CTAs\n"
     ]
    }
   ],
   "source": [
    "dec_ctas = dec[['eudract_number', 'eudract_number_with_country']].groupby('eudract_number').count()['eudract_number_with_country']\n",
    "\n",
    "print(f'There are {len(dec_ctas)} registered trials and {dec_ctas.sum()} CTAs including non-EU/EEA CTAs')"
   ]
  },
  {
   "cell_type": "code",
   "execution_count": 8,
   "id": "1505c98c-0a17-4769-b39a-225bdee63c03",
   "metadata": {},
   "outputs": [
    {
     "name": "stdout",
     "output_type": "stream",
     "text": [
      "There are 41243 registered trials and 108990 CTAs excluding non-EU/EEA CTAs\n"
     ]
    }
   ],
   "source": [
    "decf_ctas = dec_filt[['eudract_number', 'eudract_number_with_country']].groupby('eudract_number').count()['eudract_number_with_country']\n",
    "\n",
    "print(f'There are {len(decf_ctas)} registered trials and {decf_ctas.sum()} CTAs excluding non-EU/EEA CTAs')"
   ]
  },
  {
   "cell_type": "code",
   "execution_count": 9,
   "id": "a13a703a-6d22-43fd-80e9-16246c19d381",
   "metadata": {},
   "outputs": [],
   "source": [
    "#Making dates into dates and adding a column of just the \"Year\" for relevant dates\n",
    "\n",
    "dec_filt['date_on_which_this_record_was_first_entered_in_the_eudract_data'] = pd.to_datetime(dec_filt['date_on_which_this_record_was_first_entered_in_the_eudract_data'])\n",
    "dec_filt['entered_year'] = dec_filt['date_on_which_this_record_was_first_entered_in_the_eudract_data'].dt.year\n",
    "\n",
    "dec_filt['date_of_competent_authority_decision'] = pd.to_datetime(dec_filt['date_of_competent_authority_decision'])\n",
    "dec_filt['approved_year'] = dec_filt['date_of_competent_authority_decision'].dt.year"
   ]
  },
  {
   "cell_type": "code",
   "execution_count": 10,
   "id": "42f1d1f0-7298-477f-bf4d-b44e179429df",
   "metadata": {},
   "outputs": [],
   "source": [
    "#Creating a copy of the original dataset we can mess with and\n",
    "#renaming columns to better variable names\n",
    "\n",
    "analysis_df = dec_filt.copy()\n",
    "\n",
    "analysis_df.columns = ['eudract_number_country', \n",
    "                       'approved_date', \n",
    "                       'clinical_trial_type', \n",
    "                       'nca', \n",
    "                       'eudract_number', \n",
    "                       'date_entered', \n",
    "                       'trial_status', \n",
    "                       'completion_date', \n",
    "                       'trial_results', \n",
    "                       'entered_year', \n",
    "                       'approved_year']\n",
    "\n",
    "#And update the NCA names to the more accurate recent names\n",
    "analysis_df['nca'] = analysis_df['nca'].replace(nca_name_mapping)"
   ]
  },
  {
   "cell_type": "code",
   "execution_count": 11,
   "id": "9074c145-9767-4f48-bb89-a93721228c57",
   "metadata": {},
   "outputs": [
    {
     "data": {
      "text/html": [
       "<div>\n",
       "<style scoped>\n",
       "    .dataframe tbody tr th:only-of-type {\n",
       "        vertical-align: middle;\n",
       "    }\n",
       "\n",
       "    .dataframe tbody tr th {\n",
       "        vertical-align: top;\n",
       "    }\n",
       "\n",
       "    .dataframe thead th {\n",
       "        text-align: right;\n",
       "    }\n",
       "</style>\n",
       "<table border=\"1\" class=\"dataframe\">\n",
       "  <thead>\n",
       "    <tr style=\"text-align: right;\">\n",
       "      <th></th>\n",
       "      <th>eudract_number_country</th>\n",
       "    </tr>\n",
       "    <tr>\n",
       "      <th>nca</th>\n",
       "      <th></th>\n",
       "    </tr>\n",
       "  </thead>\n",
       "  <tbody>\n",
       "    <tr>\n",
       "      <th>Austria - BASG</th>\n",
       "      <td>4440</td>\n",
       "    </tr>\n",
       "    <tr>\n",
       "      <th>Belgium - FAMHP</th>\n",
       "      <td>6265</td>\n",
       "    </tr>\n",
       "    <tr>\n",
       "      <th>Bulgaria - BDA</th>\n",
       "      <td>2254</td>\n",
       "    </tr>\n",
       "    <tr>\n",
       "      <th>Croatia - MIZ</th>\n",
       "      <td>458</td>\n",
       "    </tr>\n",
       "    <tr>\n",
       "      <th>Cyprus - MoH-Ph.S</th>\n",
       "      <td>19</td>\n",
       "    </tr>\n",
       "    <tr>\n",
       "      <th>Czechia - SUKL</th>\n",
       "      <td>4687</td>\n",
       "    </tr>\n",
       "    <tr>\n",
       "      <th>Denmark - DKMA</th>\n",
       "      <td>4561</td>\n",
       "    </tr>\n",
       "    <tr>\n",
       "      <th>Estonia - SAM</th>\n",
       "      <td>1051</td>\n",
       "    </tr>\n",
       "    <tr>\n",
       "      <th>Finland - FIMEA</th>\n",
       "      <td>2702</td>\n",
       "    </tr>\n",
       "    <tr>\n",
       "      <th>France - ANSM</th>\n",
       "      <td>6600</td>\n",
       "    </tr>\n",
       "    <tr>\n",
       "      <th>Germany - BfArM</th>\n",
       "      <td>8898</td>\n",
       "    </tr>\n",
       "    <tr>\n",
       "      <th>Germany - PEI</th>\n",
       "      <td>3660</td>\n",
       "    </tr>\n",
       "    <tr>\n",
       "      <th>Greece - EOF</th>\n",
       "      <td>2032</td>\n",
       "    </tr>\n",
       "    <tr>\n",
       "      <th>Hungary - OGYEI</th>\n",
       "      <td>4909</td>\n",
       "    </tr>\n",
       "    <tr>\n",
       "      <th>Iceland - IMA</th>\n",
       "      <td>133</td>\n",
       "    </tr>\n",
       "    <tr>\n",
       "      <th>Ireland - HPRA</th>\n",
       "      <td>1283</td>\n",
       "    </tr>\n",
       "    <tr>\n",
       "      <th>Italy - AIFA</th>\n",
       "      <td>10797</td>\n",
       "    </tr>\n",
       "    <tr>\n",
       "      <th>Latvia - ZVA</th>\n",
       "      <td>1148</td>\n",
       "    </tr>\n",
       "    <tr>\n",
       "      <th>Lithuania - VVKT</th>\n",
       "      <td>1322</td>\n",
       "    </tr>\n",
       "    <tr>\n",
       "      <th>Luxembourg - Ministry of Health</th>\n",
       "      <td>8</td>\n",
       "    </tr>\n",
       "    <tr>\n",
       "      <th>Malta - ADM</th>\n",
       "      <td>18</td>\n",
       "    </tr>\n",
       "    <tr>\n",
       "      <th>Netherlands - CCMO</th>\n",
       "      <td>6394</td>\n",
       "    </tr>\n",
       "    <tr>\n",
       "      <th>Norway - NoMA</th>\n",
       "      <td>888</td>\n",
       "    </tr>\n",
       "    <tr>\n",
       "      <th>Poland - URPL</th>\n",
       "      <td>3912</td>\n",
       "    </tr>\n",
       "    <tr>\n",
       "      <th>Portugal - INFARMED</th>\n",
       "      <td>1767</td>\n",
       "    </tr>\n",
       "    <tr>\n",
       "      <th>Romania - ANMDM</th>\n",
       "      <td>647</td>\n",
       "    </tr>\n",
       "    <tr>\n",
       "      <th>Slovakia - SUKL</th>\n",
       "      <td>1957</td>\n",
       "    </tr>\n",
       "    <tr>\n",
       "      <th>Slovenia - JAZMP</th>\n",
       "      <td>423</td>\n",
       "    </tr>\n",
       "    <tr>\n",
       "      <th>Spain - AEMPS</th>\n",
       "      <td>10558</td>\n",
       "    </tr>\n",
       "    <tr>\n",
       "      <th>Sweden - MPA</th>\n",
       "      <td>4158</td>\n",
       "    </tr>\n",
       "    <tr>\n",
       "      <th>UK - MHRA</th>\n",
       "      <td>11041</td>\n",
       "    </tr>\n",
       "  </tbody>\n",
       "</table>\n",
       "</div>"
      ],
      "text/plain": [
       "                                 eudract_number_country\n",
       "nca                                                    \n",
       "Austria - BASG                                     4440\n",
       "Belgium - FAMHP                                    6265\n",
       "Bulgaria - BDA                                     2254\n",
       "Croatia - MIZ                                       458\n",
       "Cyprus - MoH-Ph.S                                    19\n",
       "Czechia - SUKL                                     4687\n",
       "Denmark - DKMA                                     4561\n",
       "Estonia - SAM                                      1051\n",
       "Finland - FIMEA                                    2702\n",
       "France - ANSM                                      6600\n",
       "Germany - BfArM                                    8898\n",
       "Germany - PEI                                      3660\n",
       "Greece - EOF                                       2032\n",
       "Hungary - OGYEI                                    4909\n",
       "Iceland - IMA                                       133\n",
       "Ireland - HPRA                                     1283\n",
       "Italy - AIFA                                      10797\n",
       "Latvia - ZVA                                       1148\n",
       "Lithuania - VVKT                                   1322\n",
       "Luxembourg - Ministry of Health                       8\n",
       "Malta - ADM                                          18\n",
       "Netherlands - CCMO                                 6394\n",
       "Norway - NoMA                                       888\n",
       "Poland - URPL                                      3912\n",
       "Portugal - INFARMED                                1767\n",
       "Romania - ANMDM                                     647\n",
       "Slovakia - SUKL                                    1957\n",
       "Slovenia - JAZMP                                    423\n",
       "Spain - AEMPS                                     10558\n",
       "Sweden - MPA                                       4158\n",
       "UK - MHRA                                         11041"
      ]
     },
     "execution_count": 11,
     "metadata": {},
     "output_type": "execute_result"
    }
   ],
   "source": [
    "#Table 1\n",
    "analysis_df[['nca', 'eudract_number_country']].groupby('nca').count()"
   ]
  },
  {
   "cell_type": "code",
   "execution_count": 12,
   "id": "bbb566b3-3e99-4e63-bdae-12e1eba14698",
   "metadata": {},
   "outputs": [
    {
     "name": "stdout",
     "output_type": "stream",
     "text": [
      "2004-07-16\n"
     ]
    }
   ],
   "source": [
    "#You can reproduce the data on the earliest registered protocol (For table 1) for each country by running \n",
    "#this function with the appropriate country abbreviation. For example, to get the date for Italy:\n",
    "\n",
    "print(earliest_record_check(analysis_df, 'Italy - AIFA'))\n",
    "\n",
    "#Uncomment this to get the date for all countries at once\n",
    "#for abrev in country_abrevs.keys():\n",
    "#    print(f'Country: {abrev}\\nEarliest record date: {earliest_record_check(dec_filt, abrev)}')"
   ]
  },
  {
   "cell_type": "code",
   "execution_count": 13,
   "id": "e57544fc-8844-496f-b2b0-bd2701a3c11e",
   "metadata": {},
   "outputs": [
    {
     "data": {
      "text/html": [
       "<div>\n",
       "<style scoped>\n",
       "    .dataframe tbody tr th:only-of-type {\n",
       "        vertical-align: middle;\n",
       "    }\n",
       "\n",
       "    .dataframe tbody tr th {\n",
       "        vertical-align: top;\n",
       "    }\n",
       "\n",
       "    .dataframe thead th {\n",
       "        text-align: right;\n",
       "    }\n",
       "</style>\n",
       "<table border=\"1\" class=\"dataframe\">\n",
       "  <thead>\n",
       "    <tr style=\"text-align: right;\">\n",
       "      <th></th>\n",
       "      <th>eudract_number_country</th>\n",
       "      <th>approved_date</th>\n",
       "      <th>clinical_trial_type</th>\n",
       "      <th>nca</th>\n",
       "      <th>eudract_number</th>\n",
       "      <th>date_entered</th>\n",
       "      <th>trial_status</th>\n",
       "      <th>completion_date</th>\n",
       "      <th>trial_results</th>\n",
       "      <th>entered_year</th>\n",
       "      <th>approved_year</th>\n",
       "    </tr>\n",
       "  </thead>\n",
       "  <tbody>\n",
       "    <tr>\n",
       "      <th>0</th>\n",
       "      <td>2020-004353-80-FI</td>\n",
       "      <td>2021-01-04</td>\n",
       "      <td>EEA CTA</td>\n",
       "      <td>Finland - FIMEA</td>\n",
       "      <td>2020-004353-80</td>\n",
       "      <td>2020-12-07</td>\n",
       "      <td>Ongoing</td>\n",
       "      <td>NaN</td>\n",
       "      <td>NaN</td>\n",
       "      <td>2020</td>\n",
       "      <td>2021.0</td>\n",
       "    </tr>\n",
       "    <tr>\n",
       "      <th>1</th>\n",
       "      <td>2008-006344-19-CZ</td>\n",
       "      <td>2009-06-15</td>\n",
       "      <td>EEA CTA</td>\n",
       "      <td>Czechia - SUKL</td>\n",
       "      <td>2008-006344-19</td>\n",
       "      <td>2009-05-05</td>\n",
       "      <td>Completed</td>\n",
       "      <td>2011-11-20</td>\n",
       "      <td>View results</td>\n",
       "      <td>2009</td>\n",
       "      <td>2009.0</td>\n",
       "    </tr>\n",
       "    <tr>\n",
       "      <th>2</th>\n",
       "      <td>2011-004581-14-DE</td>\n",
       "      <td>2012-04-16</td>\n",
       "      <td>EEA CTA</td>\n",
       "      <td>Germany - BfArM</td>\n",
       "      <td>2011-004581-14</td>\n",
       "      <td>2012-03-29</td>\n",
       "      <td>Completed</td>\n",
       "      <td>NaN</td>\n",
       "      <td>View results</td>\n",
       "      <td>2012</td>\n",
       "      <td>2012.0</td>\n",
       "    </tr>\n",
       "    <tr>\n",
       "      <th>3</th>\n",
       "      <td>2010-021638-72-IT</td>\n",
       "      <td>2011-06-21</td>\n",
       "      <td>EEA CTA</td>\n",
       "      <td>Italy - AIFA</td>\n",
       "      <td>2010-021638-72</td>\n",
       "      <td>2012-01-23</td>\n",
       "      <td>Completed</td>\n",
       "      <td>2015-07-15</td>\n",
       "      <td>View results</td>\n",
       "      <td>2012</td>\n",
       "      <td>2011.0</td>\n",
       "    </tr>\n",
       "    <tr>\n",
       "      <th>4</th>\n",
       "      <td>2019-002880-82-GB</td>\n",
       "      <td>2020-05-05</td>\n",
       "      <td>EEA CTA</td>\n",
       "      <td>UK - MHRA</td>\n",
       "      <td>2019-002880-82</td>\n",
       "      <td>2020-06-02</td>\n",
       "      <td>GB - no longer in EU/EEA</td>\n",
       "      <td>NaN</td>\n",
       "      <td>NaN</td>\n",
       "      <td>2020</td>\n",
       "      <td>2020.0</td>\n",
       "    </tr>\n",
       "  </tbody>\n",
       "</table>\n",
       "</div>"
      ],
      "text/plain": [
       "  eudract_number_country approved_date clinical_trial_type              nca  \\\n",
       "0      2020-004353-80-FI    2021-01-04             EEA CTA  Finland - FIMEA   \n",
       "1      2008-006344-19-CZ    2009-06-15             EEA CTA   Czechia - SUKL   \n",
       "2      2011-004581-14-DE    2012-04-16             EEA CTA  Germany - BfArM   \n",
       "3      2010-021638-72-IT    2011-06-21             EEA CTA     Italy - AIFA   \n",
       "4      2019-002880-82-GB    2020-05-05             EEA CTA        UK - MHRA   \n",
       "\n",
       "   eudract_number date_entered              trial_status completion_date  \\\n",
       "0  2020-004353-80   2020-12-07                   Ongoing             NaN   \n",
       "1  2008-006344-19   2009-05-05                 Completed      2011-11-20   \n",
       "2  2011-004581-14   2012-03-29                 Completed             NaN   \n",
       "3  2010-021638-72   2012-01-23                 Completed      2015-07-15   \n",
       "4  2019-002880-82   2020-06-02  GB - no longer in EU/EEA             NaN   \n",
       "\n",
       "  trial_results  entered_year  approved_year  \n",
       "0           NaN          2020         2021.0  \n",
       "1  View results          2009         2009.0  \n",
       "2  View results          2012         2012.0  \n",
       "3  View results          2012         2011.0  \n",
       "4           NaN          2020         2020.0  "
      ]
     },
     "execution_count": 13,
     "metadata": {},
     "output_type": "execute_result"
    }
   ],
   "source": [
    "analysis_df.head()"
   ]
  },
  {
   "cell_type": "code",
   "execution_count": 14,
   "id": "501f2487-e8d6-4aa3-bedc-6a77c31a87ae",
   "metadata": {},
   "outputs": [],
   "source": [
    "#To save the main analysis df for use by the other notebooks. Only need to run this once the first time.\n",
    "#analysis_df.to_csv(parent + '/data/analysis_df_jul22.csv')"
   ]
  },
  {
   "cell_type": "code",
   "execution_count": 15,
   "id": "be3df12f-27e4-45e5-b4cc-3c03ed4a0b31",
   "metadata": {
    "lines_to_next_cell": 0
   },
   "outputs": [],
   "source": [
    "#lastly this is helpful to have the country names, both the original ones from the EUCTR and the \n",
    "#current ones, in ordered lists.\n",
    "#We're going to make these available as variables to import in the lib file manually\n",
    "#But you can see what they look like here:\n",
    "ordered_countries_original = list(dec_filt.national_competent_authority.value_counts().index)\n",
    "ordered_countries_new = list(analysis_df.nca.value_counts().index)"
   ]
  },
  {
   "cell_type": "code",
   "execution_count": 16,
   "id": "946ba28c-5eca-47fa-80a0-6b2d259efc3d",
   "metadata": {},
   "outputs": [
    {
     "data": {
      "text/plain": [
       "['UK - MHRA',\n",
       " 'Italy - AIFA',\n",
       " 'Spain - AEMPS',\n",
       " 'Germany - BfArM',\n",
       " 'France - ANSM',\n",
       " 'Netherlands - CCMO',\n",
       " 'Belgium - FAMHP',\n",
       " 'Hungary - OGYEI',\n",
       " 'Czechia - SUKL',\n",
       " 'Denmark - DKMA',\n",
       " 'Austria - BASG',\n",
       " 'Sweden - MPA',\n",
       " 'Poland - URPL',\n",
       " 'Germany - PEI',\n",
       " 'Finland - FIMEA',\n",
       " 'Bulgaria - BDA',\n",
       " 'Greece - EOF',\n",
       " 'Slovakia - SUKL',\n",
       " 'Portugal - INFARMED',\n",
       " 'Lithuania - VVKT',\n",
       " 'Ireland - HPRA',\n",
       " 'Latvia - ZVA',\n",
       " 'Estonia - SAM',\n",
       " 'Norway - NoMA',\n",
       " 'Romania - ANMDM',\n",
       " 'Croatia - MIZ',\n",
       " 'Slovenia - JAZMP',\n",
       " 'Iceland - IMA',\n",
       " 'Cyprus - MoH-Ph.S',\n",
       " 'Malta - ADM',\n",
       " 'Luxembourg - Ministry of Health']"
      ]
     },
     "execution_count": 16,
     "metadata": {},
     "output_type": "execute_result"
    }
   ],
   "source": [
    "ordered_countries_new"
   ]
  },
  {
   "cell_type": "code",
   "execution_count": 17,
   "id": "35ae41bf",
   "metadata": {
    "lines_to_next_cell": 2
   },
   "outputs": [
    {
     "data": {
      "text/plain": [
       "UK - MHRA                          11041\n",
       "Italy - AIFA                       10797\n",
       "Spain - AEMPS                      10558\n",
       "Germany - BfArM                     8898\n",
       "France - ANSM                       6600\n",
       "Netherlands - CCMO                  6394\n",
       "Belgium - FAMHP                     6265\n",
       "Hungary - OGYEI                     4909\n",
       "Czechia - SUKL                      4687\n",
       "Denmark - DKMA                      4561\n",
       "Austria - BASG                      4440\n",
       "Sweden - MPA                        4158\n",
       "Poland - URPL                       3912\n",
       "Germany - PEI                       3660\n",
       "Finland - FIMEA                     2702\n",
       "Bulgaria - BDA                      2254\n",
       "Greece - EOF                        2032\n",
       "Slovakia - SUKL                     1957\n",
       "Portugal - INFARMED                 1767\n",
       "Lithuania - VVKT                    1322\n",
       "Ireland - HPRA                      1283\n",
       "Latvia - ZVA                        1148\n",
       "Estonia - SAM                       1051\n",
       "Norway - NoMA                        888\n",
       "Romania - ANMDM                      647\n",
       "Croatia - MIZ                        458\n",
       "Slovenia - JAZMP                     423\n",
       "Iceland - IMA                        133\n",
       "Cyprus - MoH-Ph.S                     19\n",
       "Malta - ADM                           18\n",
       "Luxembourg - Ministry of Health        8\n",
       "Name: nca, dtype: int64"
      ]
     },
     "execution_count": 17,
     "metadata": {},
     "output_type": "execute_result"
    }
   ],
   "source": [
    "analysis_df.nca.value_counts()"
   ]
  },
  {
   "cell_type": "code",
   "execution_count": 18,
   "id": "d7aee563-84ea-40a7-979f-966cae6b7586",
   "metadata": {},
   "outputs": [
    {
     "data": {
      "text/plain": [
       "['UK - MHRA',\n",
       " 'Italy - Italian Medicines Agency',\n",
       " 'Spain - AEMPS',\n",
       " 'Germany - BfArM',\n",
       " 'France - ANSM',\n",
       " 'Netherlands - Competent Authority',\n",
       " 'Belgium - FPS Health-DGM',\n",
       " 'Hungary - National Institute of Pharmacy',\n",
       " 'Czechia - SUKL',\n",
       " 'Denmark - DHMA',\n",
       " 'Austria - BASG',\n",
       " 'Sweden - MPA',\n",
       " 'Poland - Office for Medicinal Products',\n",
       " 'Germany - PEI',\n",
       " 'Finland - Fimea',\n",
       " 'Bulgarian Drug Agency',\n",
       " 'Greece - EOF',\n",
       " 'Slovakia - SIDC (Slovak)',\n",
       " 'Portugal - INFARMED',\n",
       " 'Lithuania - SMCA',\n",
       " 'Ireland - HPRA',\n",
       " 'Latvia - SAM',\n",
       " 'Estonia - SAM',\n",
       " 'Norway - NOMA',\n",
       " 'Romania - National Agency for Medicines and Medical Devices',\n",
       " 'Croatia - MIZ',\n",
       " 'Slovenia - JAZMP',\n",
       " 'Iceland - IMCA',\n",
       " 'Cyprus - MoH-Ph.S',\n",
       " 'Malta - ADM',\n",
       " 'Luxembourg - Ministry of Health',\n",
       " 'CZECHIA - SKUL']"
      ]
     },
     "execution_count": 18,
     "metadata": {},
     "output_type": "execute_result"
    }
   ],
   "source": [
    "ordered_countries_original"
   ]
  },
  {
   "cell_type": "code",
   "execution_count": null,
   "id": "86781f85-1511-4e2c-9977-aec72b71d6cf",
   "metadata": {},
   "outputs": [],
   "source": []
  },
  {
   "cell_type": "code",
   "execution_count": null,
   "id": "4ca3ab96-6742-4107-84fa-1290e83674e2",
   "metadata": {},
   "outputs": [],
   "source": []
  }
 ],
 "metadata": {
  "jupytext": {
   "cell_metadata_filter": "all",
   "notebook_metadata_filter": "all,-language_info",
   "text_representation": {
    "extension": ".py",
    "format_name": "light",
    "format_version": "1.5",
    "jupytext_version": "1.13.0"
   }
  },
  "kernelspec": {
   "display_name": "Python 3",
   "language": "python",
   "name": "python3"
  },
  "language_info": {
   "codemirror_mode": {
    "name": "ipython",
    "version": 3
   },
   "file_extension": ".py",
   "mimetype": "text/x-python",
   "name": "python",
   "nbconvert_exporter": "python",
   "pygments_lexer": "ipython3",
   "version": "3.8.1"
  }
 },
 "nbformat": 4,
 "nbformat_minor": 5
}
