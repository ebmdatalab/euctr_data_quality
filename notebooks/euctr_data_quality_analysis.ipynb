{
 "cells": [
  {
   "cell_type": "code",
   "execution_count": null,
   "metadata": {},
   "outputs": [],
   "source": [
    "import pandas as pd\n",
    "import re\n",
    "import matplotlib.pyplot as plt\n",
    "import numpy as np\n",
    "import ast\n",
    "\n",
    "from lib.functions_data import *"
   ]
  },
  {
   "cell_type": "code",
   "execution_count": null,
   "metadata": {},
   "outputs": [],
   "source": [
    "import sys\n",
    "from pathlib import Path\n",
    "import os\n",
    "cwd = os.getcwd()\n",
    "parent = str(Path(cwd).parents[0])\n",
    "sys.path.append(parent)\n",
    "\n",
    "%matplotlib inline\n",
    "%load_ext autoreload\n",
    "%autoreload 2"
   ]
  },
  {
   "cell_type": "code",
   "execution_count": null,
   "metadata": {},
   "outputs": [],
   "source": [
    "#Only the columns we need for the analysis to save memory\n",
    "cols = ['eudract_number_with_country', 'date_of_competent_authority_decision',\n",
    "       'clinical_trial_type', 'national_competent_authority', 'eudract_number',\n",
    "       'date_on_which_this_record_was_first_entered_in_the_eudract_data',\n",
    "       'trial_status', 'date_of_the_global_end_of_the_trial', 'trial_results']\n",
    "\n",
    "#You can copy this URL if you want to download the full data\n",
    "data_link = 'https://www.dropbox.com/s/4qt0msiipyn7crm/euctr_euctr_dump-2020-12-03-095517.csv.zip?dl=1'\n",
    "\n",
    "dec = pd.read_csv(data_link, compression='zip', low_memory=False, usecols=cols)\n",
    "\n",
    "#This is additional data from the results page we need for certain analysese\n",
    "results_info = pd.read_csv(parent + '/data/euctr_data_quality_results_scrape_dec_2020.csv')\n",
    "results_info['trial_start_date'] = pd.to_datetime(results_info.trial_start_date)"
   ]
  },
  {
   "cell_type": "code",
   "execution_count": null,
   "metadata": {},
   "outputs": [],
   "source": [
    "#Quick look at the spread of trial statuses on the EUCTR\n",
    "dec.trial_status.value_counts(dropna=False)"
   ]
  },
  {
   "cell_type": "markdown",
   "metadata": {},
   "source": [
    "The \"date_of_competent_authority_decision\" field has 2 nonsensical year values in which the correct value can reasonably be derived from context. We fix those below:\n",
    "\n",
    "https://www.clinicaltrialsregister.eu/ctr-search/trial/2009-016759-22/DK\n",
    "\n",
    "https://www.clinicaltrialsregister.eu/ctr-search/trial/2006-006947-30/FR"
   ]
  },
  {
   "cell_type": "code",
   "execution_count": null,
   "metadata": {},
   "outputs": [],
   "source": [
    "ind = dec[dec.date_of_competent_authority_decision.notnull() & \n",
    "          dec.date_of_competent_authority_decision.str.contains('210')].index\n",
    "ind = ind.to_list()[0]\n",
    "\n",
    "ind_2 = dec[dec.date_of_competent_authority_decision.notnull() & \n",
    "            dec.date_of_competent_authority_decision.str.contains('2077')].index\n",
    "ind_2 = ind_2.to_list()[0]\n",
    "\n",
    "dec.at[ind, 'date_of_competent_authority_decision'] = '2010-06-18'\n",
    "dec.at[ind_2, 'date_of_competent_authority_decision'] = '2007-04-05'"
   ]
  },
  {
   "cell_type": "code",
   "execution_count": null,
   "metadata": {},
   "outputs": [],
   "source": [
    "#get rid of all protocols from non EU/EEA countries\n",
    "dec_filt = dec[dec.clinical_trial_type != 'Outside EU/EEA'].reset_index(drop=True)\n",
    "\n",
    "#lets see how many that is:\n",
    "print(len(dec) - len(dec_filt))"
   ]
  },
  {
   "cell_type": "code",
   "execution_count": null,
   "metadata": {},
   "outputs": [],
   "source": [
    "#Making dates into dates and adding a column of just the \"Year\" for relevant dates\n",
    "\n",
    "dec_filt['date_on_which_this_record_was_first_entered_in_the_eudract_data'] = pd.to_datetime(dec_filt['date_on_which_this_record_was_first_entered_in_the_eudract_data'])\n",
    "dec_filt['entered_year'] = dec_filt['date_on_which_this_record_was_first_entered_in_the_eudract_data'].dt.year\n",
    "\n",
    "dec_filt['date_of_competent_authority_decision'] = pd.to_datetime(dec_filt['date_of_competent_authority_decision'])\n",
    "dec_filt['approved_year'] = dec_filt['date_of_competent_authority_decision'].dt.year"
   ]
  },
  {
   "cell_type": "code",
   "execution_count": null,
   "metadata": {},
   "outputs": [],
   "source": [
    "#You can reproduce the data on the earliest registered protocol for each country by running this cell\n",
    "#with the appropriate country abbreviation. For example, 'IT' for Italy:\n",
    "\n",
    "print(earliest_record_check(dec_filt, 'IT'))\n",
    "\n",
    "#Uncomment this to get the date for all countries at once\n",
    "#for abrev in country_abrevs.keys():\n",
    "#    print(f'Country: {abrev}\\nEarliest record date: {earliest_record_check(dec_filt, abrev)}')"
   ]
  },
  {
   "cell_type": "code",
   "execution_count": null,
   "metadata": {},
   "outputs": [],
   "source": [
    "#Creating a copy of the original dataset we can mess with and\n",
    "#renaming columns to better variable names\n",
    "\n",
    "analysis_df = dec_filt.copy()\n",
    "analysis_df.columns = ['eudract_number_country', \n",
    "                       'approved_date', \n",
    "                       'clinical_trial_type', \n",
    "                       'nca', \n",
    "                       'eudract_number', \n",
    "                       'date_entered', \n",
    "                       'trial_status', \n",
    "                       'completion_date', \n",
    "                       'trial_results', \n",
    "                       'entered_year', \n",
    "                       'approved_year']\n",
    "\n",
    "#And update the NCA names to the more accurate recent names\n",
    "\n",
    "analysis_df['nca'] = analysis_df['nca'].replace(nca_name_mapping)"
   ]
  },
  {
   "cell_type": "code",
   "execution_count": null,
   "metadata": {},
   "outputs": [],
   "source": [
    "#lastly this is helpful to have the country names in order\n",
    "ordered_countries_original = list(dec_filt.national_competent_authority.value_counts().index)\n",
    "ordered_countries_new = list(analysis_df.nca.value_counts().index)"
   ]
  },
  {
   "cell_type": "markdown",
   "metadata": {},
   "source": [
    "# Registrations Over Time"
   ]
  },
  {
   "cell_type": "code",
   "execution_count": null,
   "metadata": {},
   "outputs": [],
   "source": [
    "reg_df = analysis_df[['eudract_number', 'nca', 'date_entered', 'entered_year', 'approved_date', 'approved_year']].reset_index(drop=True)\n",
    "reg_df.head()"
   ]
  },
  {
   "cell_type": "code",
   "execution_count": null,
   "metadata": {},
   "outputs": [],
   "source": [
    "#Data for Overall Trend in Registrations\n",
    "\n",
    "grouped_overall = reg_df[['eudract_number']].groupby([reg_df.entered_year]).count()\n",
    "earliest_entered = reg_df[['eudract_number', 'date_entered']].groupby('eudract_number', as_index=False).min()\n",
    "earliest_entered['year'] = earliest_entered.date_entered.dt.year\n",
    "unique_trials = earliest_entered[['eudract_number', 'year']].groupby('year').count()"
   ]
  },
  {
   "cell_type": "code",
   "execution_count": null,
   "metadata": {},
   "outputs": [],
   "source": [
    "fig, ax = plt.subplots(figsize = (12,6))\n",
    "\n",
    "grouped_overall[(grouped_overall.index > 2004) & (grouped_overall.index < 2020)].plot(ax=ax, legend=False, lw=2, \n",
    "                                                                                      marker='.', markersize=12)\n",
    "unique_trials[(unique_trials.index > 2004) & (unique_trials.index < 2020)].plot(ax=ax, legend=False, grid=True, \n",
    "                                                                                lw=2, marker='.', markersize=12)\n",
    "\n",
    "ax.legend(['Total Protocols', 'Unique Trials'], bbox_to_anchor = (1, 1))\n",
    "ax.set_xticks(range(2005, 2020))\n",
    "ax.set_yticks(range(0,7500, 500))\n",
    "plt.xlabel('Protocol Record Entry Year', labelpad=10)\n",
    "plt.ylabel('Records Entered')\n",
    "plt.title('Trend in new CTA and Trial Registration on the EUCTR', pad=10)\n",
    "\n",
    "fig.show()"
   ]
  },
  {
   "cell_type": "markdown",
   "metadata": {},
   "source": [
    "Now we're interested in breaking the data down a bit further. Here we will break it down into quarters for more detailed analysis. We graph the years for which we have full EUCTR data (2005-2019)."
   ]
  },
  {
   "cell_type": "code",
   "execution_count": null,
   "metadata": {},
   "outputs": [],
   "source": [
    "grouped = reg_df[['eudract_number']].groupby([reg_df.nca, pd.PeriodIndex(reg_df.date_entered, freq='Q')]).count()\n",
    "\n",
    "get_index = reg_df[['eudract_number']].groupby(pd.PeriodIndex(reg_df.date_entered, freq='Q')).count()\n",
    "quarters = list(get_index.index)"
   ]
  },
  {
   "cell_type": "code",
   "execution_count": null,
   "metadata": {},
   "outputs": [],
   "source": [
    "fig, axes = plt.subplots(figsize = (20, 16), nrows=7, ncols=4, dpi=300)\n",
    "fig.suptitle(\"Cumulative trial registrations by NCA\", y=1.05, fontsize=20)\n",
    "fig.tight_layout()\n",
    "\n",
    "pd.set_option('mode.chained_assignment', None)\n",
    "for x, y in enumerate(fig.axes):\n",
    "    country = grouped.loc[ordered_countries_new[x]]\n",
    "    first_reporting_quarter = country[country.eudract_number > 0].index.min()\n",
    "    adjusted_data = zero_out_dict(country.to_dict()['eudract_number'], quarters) \n",
    "    data = pd.DataFrame({'eudract_number': adjusted_data})\n",
    "    x_ticks = data.index\n",
    "    \n",
    "    #Get rid of leading zeros\n",
    "    data['eudract_number'] = np.where(data.index < first_reporting_quarter, np.nan, data.eudract_number)\n",
    "    \n",
    "    consolidated = data[(data.index.year > 2004) & (data.index.year < 2020) & data.eudract_number.notnull()]\n",
    "    \n",
    "    leading_zero_check = True\n",
    "    i=0\n",
    "    \n",
    "    while leading_zero_check:\n",
    "        if consolidated.eudract_number[i] == 0:\n",
    "            consolidated.at[consolidated.index[i], 'eudract_number'] = np.nan\n",
    "            i+=1\n",
    "        else:\n",
    "            leading_zero_check = False\n",
    "    \n",
    "    consolidated = consolidated[consolidated.eudract_number.notnull()]\n",
    "    \n",
    "    cumulative = consolidated.cumsum()\n",
    "    \n",
    "    cumulative.plot(ax=y, lw=4, sharex='col',legend=False, title=ordered_countries_new[x])\n",
    "    cumulative.loc[[cumulative.index[0], cumulative.index[-1]]].plot(ax=y, legend=False, lw=2, style='--')\n",
    "    \n",
    "    #int_ordinal = np.arange(0,len(consolidated.index))\n",
    "    \n",
    "    #z = np.polyfit(int_ordinal, consolidated.eudract_number, 1)\n",
    "    #p = np.poly1d(z)\n",
    "    \n",
    "    #consolidated['trend'] = p(int_ordinal)\n",
    "    \n",
    "    #consolidated.trend.plot(ax=y)\n",
    "    \n",
    "    \n",
    "    #if ordered_countries_original[x] == 'Slovenia - JAZMP':\n",
    "    #    y.set_yticks(range(0,16,3))\n",
    "    \n",
    "    y.set_axisbelow(True)\n",
    "    y.grid(zorder=0)\n",
    "    y.set_xlabel('Protocol Record Entry Year', labelpad=10)\n",
    "    y.set_xlim(x_ticks[0], x_ticks[-1])\n",
    "    \n",
    "pd.set_option('mode.chained_assignment', 'warn')\n",
    "\n",
    "plt.legend(['Cumulative Count of New CTA Registrations', 'Stable Trend Line'], \n",
    "           loc='upper center', ncol=5, bbox_to_anchor = (-1.2, -.3), fontsize=15)\n",
    "plt.show()"
   ]
  },
  {
   "cell_type": "markdown",
   "metadata": {},
   "source": [
    "For comparison here are the raw trends"
   ]
  },
  {
   "cell_type": "code",
   "execution_count": null,
   "metadata": {},
   "outputs": [],
   "source": [
    "fig, axes = plt.subplots(figsize = (20, 16), nrows=7, ncols=4, dpi=300)\n",
    "fig.suptitle(\"Trends in trial registrations by NCA\", y=1.05, fontsize=20)\n",
    "fig.tight_layout()\n",
    "\n",
    "pd.set_option('mode.chained_assignment', None)\n",
    "for x, y in enumerate(fig.axes):\n",
    "    country = grouped.loc[ordered_countries_new[x]]\n",
    "    first_reporting_quarter = country[country.eudract_number > 0].index.min()\n",
    "    adjusted_data = zero_out_dict(country.to_dict()['eudract_number'], quarters) \n",
    "    data = pd.DataFrame({'eudract_number': adjusted_data})\n",
    "    x_ticks = data.index\n",
    "    \n",
    "    #Get rid of leading zeros\n",
    "    data['eudract_number'] = np.where(data.index < first_reporting_quarter, np.nan, data.eudract_number)\n",
    "    \n",
    "    consolidated = data[(data.index.year > 2004) & (data.index.year < 2020) & data.eudract_number.notnull()]\n",
    "    \n",
    "    leading_zero_check = True\n",
    "    i=0\n",
    "    \n",
    "    while leading_zero_check:\n",
    "        if consolidated.eudract_number[i] == 0:\n",
    "            consolidated.at[consolidated.index[i], 'eudract_number'] = np.nan\n",
    "            i+=1\n",
    "        else:\n",
    "            leading_zero_check = False\n",
    "    \n",
    "    consolidated = consolidated[consolidated.eudract_number.notnull()]\n",
    "    \n",
    "    #if ordered_countries_new[x] != 'Croatia - MIZ':\n",
    "    #    p = pv_df.loc[ordered_countries_new[x]][0]\n",
    "    #    if p < .05:\n",
    "    #        title = ordered_countries_new[x] + '*'\n",
    "    #    else:\n",
    "    #        title = ordered_countries_new[x]\n",
    "    #else:\n",
    "    #    title = 'Croatia - MIZ' + '^'\n",
    "    \n",
    "    consolidated.plot(ax=y, lw=2, sharex='col',legend=False, title=ordered_countries_new[x])\n",
    "    \n",
    "    #int_ordinal = np.arange(0,len(consolidated.index))\n",
    "    \n",
    "    #z = np.polyfit(int_ordinal, consolidated.eudract_number, 1)\n",
    "    #p = np.poly1d(z)\n",
    "    \n",
    "    #consolidated['trend'] = p(int_ordinal)\n",
    "    \n",
    "    #consolidated.trend.plot(ax=y)\n",
    "    \n",
    "    \n",
    "    if ordered_countries_original[x] == 'Slovenia - JAZMP':\n",
    "        y.set_yticks(range(0,16,3))\n",
    "    \n",
    "    y.set_axisbelow(True)\n",
    "    y.grid(zorder=0)\n",
    "    y.set_xlabel('Protocol Record Entry Year', labelpad=10)\n",
    "    y.set_xlim(x_ticks[0], x_ticks[-1])\n",
    "    \n",
    "pd.set_option('mode.chained_assignment', 'warn')\n",
    "plt.show()"
   ]
  },
  {
   "cell_type": "markdown",
   "metadata": {},
   "source": [
    "Lasty, we can just sanity check using the year the CTA was entered compared to the date the NCA gave approval. When we graph them on top of each other, we can see that the overall trend align very well though with approvals being slightly less susceptable to large jumps."
   ]
  },
  {
   "cell_type": "code",
   "execution_count": null,
   "metadata": {},
   "outputs": [],
   "source": [
    "grouped_year = reg_df[['eudract_number']].groupby([reg_df.nca, reg_df.entered_year]).count()\n",
    "grouped_year_2 = reg_df[['eudract_number']].groupby([reg_df.nca, reg_df.approved_year]).count()"
   ]
  },
  {
   "cell_type": "code",
   "execution_count": null,
   "metadata": {},
   "outputs": [],
   "source": [
    "fig, axes = plt.subplots(figsize = (20, 16), nrows=7, ncols=4, dpi=300)\n",
    "fig.suptitle(\"Trends in trial registrations by NCA\", y=1.05, fontsize=20)\n",
    "fig.tight_layout()\n",
    "\n",
    "pd.set_option('mode.chained_assignment', None)\n",
    "for x, y in enumerate(fig.axes):\n",
    "    country = grouped_year.loc[ordered_countries_new[x]]\n",
    "    country_2 = grouped_year_2.loc[ordered_countries_new[x]]\n",
    "    first_reporting_quarter = country[country.eudract_number > 0].index.min()\n",
    "    \n",
    "    adjusted_data = zero_out_dict(country.to_dict()['eudract_number'], range(2004, 2020))\n",
    "    adjusted_data_2 = zero_out_dict(country_2.to_dict()['eudract_number'], range(2004, 2020))\n",
    "    \n",
    "    data = pd.DataFrame({'eudract_number': adjusted_data})\n",
    "    data_2 = pd.DataFrame({'eudract_number': adjusted_data_2})\n",
    "    x_ticks = data.index\n",
    "    \n",
    "    #Get rid of leading zeros\n",
    "    data['eudract_number'] = np.where(data.index < first_reporting_quarter, np.nan, data.eudract_number)\n",
    "    data_2['eudract_number'] = np.where(data_2.index < first_reporting_quarter, np.nan, data_2.eudract_number)\n",
    "    \n",
    "    consolidated = data[(data.index > 2004) & (data.index < 2020) & data.eudract_number.notnull()]\n",
    "    consolidated_2 = data_2[(data_2.index > 2004) & (data_2.index < 2020) & data_2.eudract_number.notnull()]\n",
    "    \n",
    "    leading_zero_check = True\n",
    "    i=0\n",
    "    \n",
    "    while leading_zero_check:\n",
    "        if consolidated.eudract_number.values[i] == 0:\n",
    "            consolidated.at[consolidated.index[i], 'eudract_number'] = np.nan\n",
    "            i+=1\n",
    "        else:\n",
    "            leading_zero_check = False\n",
    "    \n",
    "    while leading_zero_check:\n",
    "        if consolidated_2.eudract_number.values[i] == 0:\n",
    "            consolidated_2.at[consolidated_2.index[i], 'eudract_number'] = np.nan\n",
    "            i+=1\n",
    "        else:\n",
    "            leading_zero_check = False\n",
    "    \n",
    "    consolidated = consolidated[consolidated.eudract_number.notnull()]\n",
    "    consolidated_2 = consolidated_2[consolidated_2.eudract_number.notnull()]\n",
    "    \n",
    "    consolidated.plot(ax=y, lw=2, sharex='col',legend=False, title=ordered_countries_new[x])\n",
    "    consolidated_2.plot(ax=y, lw=2, sharex='col',legend=False)\n",
    "    \n",
    "    y.set_axisbelow(True)\n",
    "    y.grid(zorder=0)\n",
    "    y.set_xlabel('Protocol Record Entry Year', labelpad=10)\n",
    "    y.set_xlim(x_ticks[0], x_ticks[-1])\n",
    "    \n",
    "pd.set_option('mode.chained_assignment', 'warn')\n",
    "plt.legend(['First Entered Date', 'NCA Approval Date'], \n",
    "           loc='upper center', ncol=5, bbox_to_anchor = (-1.2, -.3), fontsize=15)\n",
    "plt.show()"
   ]
  },
  {
   "cell_type": "markdown",
   "metadata": {},
   "source": [
    "# Trial Status By Country Over Time"
   ]
  },
  {
   "cell_type": "code",
   "execution_count": null,
   "metadata": {},
   "outputs": [],
   "source": [
    "status_df = analysis_df[['eudract_number', 'nca', 'entered_year', 'trial_status']].reset_index(drop=True)\n",
    "status_df['trial_status'] = status_df.trial_status.fillna('Missing')\n",
    "\n",
    "status_group = status_df.groupby(['nca', 'entered_year', 'trial_status'], as_index=False).count()"
   ]
  },
  {
   "cell_type": "code",
   "execution_count": null,
   "metadata": {},
   "outputs": [],
   "source": [
    "ordered_countries = list(status_group[['nca', 'eudract_number']].groupby('nca').sum().sort_values(by='eudract_number', ascending=False).index)\n",
    "\n",
    "#Removing these for low number of trials\n",
    "ordered_countries.remove('Malta - ADM')\n",
    "ordered_countries.remove('Luxembourg - Ministry of Health')\n",
    "ordered_countries.remove('Cyprus - MoH-Ph.S')"
   ]
  },
  {
   "cell_type": "markdown",
   "metadata": {},
   "source": [
    "Here we create our trial status categories"
   ]
  },
  {
   "cell_type": "code",
   "execution_count": null,
   "metadata": {},
   "outputs": [],
   "source": [
    "country_status = {}\n",
    "\n",
    "for c in status_group.nca.unique():\n",
    "    country_dict = {}\n",
    "    country = status_group[status_group.nca == c]\n",
    "    \n",
    "    completed = country[country.trial_status.isin(['Completed', 'Prematurely Ended'])][['entered_year', 'eudract_number']].groupby('entered_year').sum()\n",
    "    comp_dict = completed.to_dict()['eudract_number']\n",
    "    country_dict['completed'] = zero_out_dict(comp_dict, range(2004,2021))\n",
    "    \n",
    "    ongoing = country[country.trial_status.isin(['Ongoing', 'Restarted'])][['entered_year', 'eudract_number']].groupby('entered_year').sum()\n",
    "    ong_dict = ongoing.to_dict()['eudract_number']\n",
    "    country_dict['ongoing'] = zero_out_dict(ong_dict, range(2004,2021))\n",
    "    \n",
    "    missing = country[country.trial_status == 'Missing']\n",
    "    missing_dict = pd.Series(missing.eudract_number.values, index=missing.entered_year).to_dict()\n",
    "    country_dict['missing'] = zero_out_dict(missing_dict, range(2004,2021))\n",
    "    \n",
    "    other = country[~country.trial_status.isin(['Completed', 'Ongoing', 'Restarted', 'Prematurely Ended', 'Missing'])][['entered_year', 'eudract_number']].groupby('entered_year').sum()\n",
    "    other_dict = other.to_dict()['eudract_number']\n",
    "    country_dict['other'] = zero_out_dict(other_dict, range(2004,2021))\n",
    "    \n",
    "    country_status[c] = country_dict"
   ]
  },
  {
   "cell_type": "code",
   "execution_count": null,
   "metadata": {},
   "outputs": [],
   "source": [
    "#Shaping up the final data so it's easy to use\n",
    "\n",
    "regrouped = pd.DataFrame.from_dict(country_status, orient='index').stack().to_frame()[0].apply(pd.Series).reindex(\n",
    "    ['completed', 'ongoing', 'other', 'missing'], level=1)"
   ]
  },
  {
   "cell_type": "code",
   "execution_count": null,
   "metadata": {},
   "outputs": [],
   "source": [
    "#A glance at the overall trend\n",
    "\n",
    "grouped_total = regrouped.droplevel(level=0).groupby(regrouped.droplevel(level=0).index).sum()\n",
    "\n",
    "title='Trial Status of Protocols by Record Entry Date'\n",
    "\n",
    "\n",
    "fig, ax = plt.subplots(figsize = (10,5))\n",
    "grouped_total.reindex(['completed', 'ongoing', 'missing', 'other']).T.plot.bar(stacked=True, width=.9, ax=ax, \n",
    "                                                                               rot=45, title = title, legend=False)\n",
    "\n",
    "ax.set_axisbelow(True)\n",
    "ax.grid(axis='y', zorder=0)\n",
    "ax.set_xlabel('Protocol Record Entry Year', labelpad=10)\n",
    "\n",
    "plt.legend(['Completed', 'Ongoing', 'Other', 'Missing'], \n",
    "           loc='upper center', ncol=5, bbox_to_anchor = (0.5, -0.2), fontsize=12)\n",
    "plt.show()"
   ]
  },
  {
   "cell_type": "code",
   "execution_count": null,
   "metadata": {},
   "outputs": [],
   "source": [
    "#And now a look at the trend for each EU/EEA country\n",
    "\n",
    "fig, axes = plt.subplots(figsize = (20, 16), nrows=7, ncols=4, dpi=300)\n",
    "fig.suptitle(\"Trial Status of Protocols by NCA\", y=1.02, fontsize=20)\n",
    "fig.tight_layout()\n",
    "for x, y in enumerate(fig.axes):\n",
    "    regrouped.loc[[ordered_countries[x]]].droplevel(level=0).T.plot.bar(stacked=True, ax=y, width=.9, legend=False,\n",
    "                                                                        sharex='col', rot=45,\n",
    "                                                                        title=ordered_countries[x])\n",
    "    \n",
    "    y.set_axisbelow(True)\n",
    "    y.grid(axis='y', zorder=0)\n",
    "    y.set_xlabel('Protocol Record Entry Year', labelpad=10)\n",
    "\n",
    "\n",
    "plt.legend(['Completed', 'Ongoing', 'Other', 'Missing'], \n",
    "           loc='upper center', ncol=5, bbox_to_anchor = (-1.2, -.5), fontsize=15)\n",
    "\n",
    "plt.show()"
   ]
  },
  {
   "cell_type": "markdown",
   "metadata": {},
   "source": [
    "# Missing Completion Dates"
   ]
  },
  {
   "cell_type": "code",
   "execution_count": null,
   "metadata": {},
   "outputs": [],
   "source": [
    "date_df = analysis_df[['eudract_number', 'nca', 'entered_year', 'trial_status', 'completion_date', 'trial_results']].reset_index(drop=True)\n",
    "date_df['trial_status'] = date_df.trial_status.fillna('Missing')\n",
    "date_df['has_completion_date'] = np.where(date_df.completion_date.isna(), 0, 1)"
   ]
  },
  {
   "cell_type": "code",
   "execution_count": null,
   "metadata": {},
   "outputs": [],
   "source": [
    "only_completed = date_df[date_df.trial_status.isin(['Completed', 'Prematurely Ended'])].reset_index(drop=True)"
   ]
  },
  {
   "cell_type": "code",
   "execution_count": null,
   "metadata": {},
   "outputs": [],
   "source": [
    "total_completed = only_completed[['nca', \n",
    "                                  'entered_year', \n",
    "                                  'has_completion_date']].groupby(['nca', \n",
    "                                                                   'entered_year']).count().rename({'has_completion_date': 'denominator'}, axis=1)\n",
    "\n",
    "total_completed_date = only_completed[['nca', 'entered_year', 'has_completion_date']].groupby(['nca', 'entered_year']).sum().rename({'has_completion_date': 'numerator'}, axis=1)\n",
    "\n"
   ]
  },
  {
   "cell_type": "code",
   "execution_count": null,
   "metadata": {},
   "outputs": [],
   "source": [
    "merged_dates = total_completed.join(total_completed_date)\n",
    "merged_dates['missing_dates'] = merged_dates.denominator - merged_dates.numerator"
   ]
  },
  {
   "cell_type": "code",
   "execution_count": null,
   "metadata": {},
   "outputs": [],
   "source": [
    "stacked_dates = merged_dates.drop('denominator', axis=1).stack().unstack(1)"
   ]
  },
  {
   "cell_type": "code",
   "execution_count": null,
   "metadata": {},
   "outputs": [],
   "source": [
    "overall_dates = stacked_dates.droplevel(level=0).groupby(stacked_dates.droplevel(level=0).index).sum()\n",
    "\n",
    "title='Availability of Completion Dates for Completed Trials'\n",
    "\n",
    "fig, ax = plt.subplots(figsize = (10,5))\n",
    "overall_dates.reindex(['numerator', 'missing_dates']).T.plot.bar(stacked=True, width=.9, ax=ax, legend=False, \n",
    "                                                                 rot=45, title=title)\n",
    "\n",
    "ax.set_axisbelow(True)\n",
    "ax.grid(axis='y', zorder=0)\n",
    "ax.set_xlabel('Protocol Record Entry Year', labelpad=10)\n",
    "\n",
    "plt.legend(['Has Date', 'Missing Date'], \n",
    "           loc='upper right', fontsize=12)\n",
    "plt.show()"
   ]
  },
  {
   "cell_type": "code",
   "execution_count": null,
   "metadata": {},
   "outputs": [],
   "source": [
    "fig, axes = plt.subplots(figsize = (20, 16), nrows=7, ncols=4)\n",
    "fig.suptitle(\"Available Completion Dates for Completed Trials by NCA\", y=1.05, fontsize=20)\n",
    "fig.tight_layout()\n",
    "\n",
    "for x, y in enumerate(fig.axes):\n",
    "    stacked_dates.loc[[ordered_countries[x]]].droplevel(level=0).T.plot.bar(stacked=True, ax=y, width=.9, \n",
    "                                                                            legend=False, sharex='col', rot=45, \n",
    "                                                                            title=ordered_countries[x])\n",
    "    y.set_axisbelow(True)\n",
    "    y.grid(axis='y', zorder=0)\n",
    "    y.set_xlabel('Protocol Record Entry Year', labelpad=10)\n",
    "    \n",
    "plt.legend(['Has Date', 'Missing Date'], \n",
    "           loc='upper center', ncol=5, bbox_to_anchor = (0.5, .02), fontsize=15)\n",
    "\n",
    "plt.show()"
   ]
  },
  {
   "cell_type": "markdown",
   "metadata": {},
   "source": [
    "# Cross-checking countries listed in results with public CTAs"
   ]
  },
  {
   "cell_type": "code",
   "execution_count": null,
   "metadata": {},
   "outputs": [],
   "source": [
    "results_info_filt = results_info[results_info.recruitment_countries.notnull()].reset_index(drop=True)"
   ]
  },
  {
   "cell_type": "code",
   "execution_count": null,
   "metadata": {},
   "outputs": [],
   "source": [
    "protocols = results_info_filt.trial_countries.to_list()\n",
    "results_countries = results_info_filt.recruitment_countries.to_list()\n",
    "start_date = results_info_filt.trial_start_date.to_list()\n",
    "trial_ids = results_info_filt.trial_id.to_list()\n",
    "\n",
    "zipped_cats = zip(trial_ids, protocols, results_countries, start_date)\n",
    "\n",
    "results_list = compare_enrollment_registration(zipped_cats)\n",
    "\n",
    "missing_protocols = pd.DataFrame(results_list)\n",
    "missing_protocols['total_missing'] = missing_protocols.unaccounted.apply(len)"
   ]
  },
  {
   "cell_type": "code",
   "execution_count": null,
   "metadata": {},
   "outputs": [],
   "source": [
    "acct = missing_protocols.accounted.to_list()\n",
    "unacct = missing_protocols.unaccounted.to_list()"
   ]
  },
  {
   "cell_type": "code",
   "execution_count": null,
   "metadata": {},
   "outputs": [],
   "source": [
    "accounted_count = {}\n",
    "unaccounted_count = {}\n",
    "for ac, un in zip(acct, unacct):\n",
    "    if ac:\n",
    "        for a in ac:\n",
    "            accounted_count[a] = accounted_count.get(a, 0) + 1\n",
    "    if un:\n",
    "        for u in un:\n",
    "            unaccounted_count[u] = unaccounted_count.get(u, 0) + 1"
   ]
  },
  {
   "cell_type": "code",
   "execution_count": null,
   "metadata": {},
   "outputs": [],
   "source": [
    "accounted_series = pd.Series(accounted_count)\n",
    "unaccounted_series = pd.Series(unaccounted_count)\n",
    "\n",
    "reg_check_no_buffer = accounted_series.to_frame().join(unaccounted_series.to_frame(), how='outer', rsuffix='unac').rename({'0': 'accounted', '0unac': 'unaccounted'}, axis=1).fillna(0)"
   ]
  },
  {
   "cell_type": "code",
   "execution_count": null,
   "metadata": {},
   "outputs": [],
   "source": [
    "reg_check_no_buffer['total'] = reg_check_no_buffer['accounted'] + reg_check_no_buffer['unaccounted']\n",
    "\n",
    "reg_check_no_buffer['acct_prct'] = round((reg_check_no_buffer['accounted'] / reg_check_no_buffer['total']) * 100, 2)\n",
    "\n",
    "reg_check_no_buffer['unacct_prct'] = round((reg_check_no_buffer['unaccounted'] / reg_check_no_buffer['total']) * 100, 2)\n",
    "\n",
    "reg_check_no_buffer.head()"
   ]
  },
  {
   "cell_type": "code",
   "execution_count": null,
   "metadata": {},
   "outputs": [],
   "source": [
    "fig, ax = plt.subplots(figsize = (20,10))\n",
    "\n",
    "title = 'Protocol Availability for Reported Trials By Country'\n",
    "\n",
    "sorted_countries = reg_check_no_buffer.sort_values(by='total')\n",
    "sorted_countries[['accounted', 'unaccounted']].plot.bar(stacked=True, ax=ax, title=title,\n",
    "                                                        legend=False, width=.5)\n",
    "\n",
    "ax.set_axisbelow(True)\n",
    "ax.grid(axis='y', zorder=0)\n",
    "\n",
    "rects = ax.patches[0:30]\n",
    "\n",
    "for rect, label, y_off in zip(rects, sorted_countries.acct_prct.values, sorted_countries.total.values):\n",
    "    ax.text(rect.get_x() + rect.get_width() / 2, y_off + 25, str(label) + '%', \n",
    "            ha='center', va='bottom', fontsize=10)\n",
    "\n",
    "ax.legend(['Protocol Available', 'Protocol Unavailable'], \n",
    "           loc='upper left', fontsize=9)\n",
    "    \n",
    "plt.show()"
   ]
  },
  {
   "cell_type": "code",
   "execution_count": null,
   "metadata": {},
   "outputs": [],
   "source": [
    "min_start_date = analysis_df[['eudract_number', 'entered_year']].groupby('eudract_number', as_index=False).min()\n",
    "\n",
    "by_year_df = missing_protocols.merge(min_start_date, how='left', left_on='trial_id', right_on='eudract_number').drop('eudract_number', axis=1)"
   ]
  },
  {
   "cell_type": "code",
   "execution_count": null,
   "metadata": {},
   "outputs": [],
   "source": [
    "fig, ax = plt.subplots(figsize = (12,6))\n",
    "\n",
    "to_graph = by_year_df[['entered_year', 'total_missing']].groupby('entered_year').sum()\n",
    "to_graph.index = to_graph.index.astype(int)\n",
    "\n",
    "to_graph.plot.bar(ax=ax, legend=False, width=.9, rot=45)\n",
    "\n",
    "ax.set_axisbelow(True)\n",
    "ax.grid(axis='y', zorder=0)\n",
    "plt.title('Missing Protocols By Trial Entered Year', pad=10)\n",
    "plt.ylabel('Missing Protocols')\n",
    "    \n",
    "plt.show()"
   ]
  },
  {
   "cell_type": "markdown",
   "metadata": {},
   "source": [
    "**Using longer lags between the first available protocol for a country to see if it makes a difference. This can be adjusted using the `offseet` parameter of the `compare_enrollment_registration` function**"
   ]
  },
  {
   "cell_type": "code",
   "execution_count": null,
   "metadata": {},
   "outputs": [],
   "source": [
    "protocols = results_info_filt.trial_countries.to_list()\n",
    "results_countries = results_info_filt.recruitment_countries.to_list()\n",
    "start_date = results_info_filt.trial_start_date.to_list()\n",
    "trial_ids = results_info_filt.trial_id.to_list()\n",
    "\n",
    "zipped_cats = zip(trial_ids, protocols, results_countries, start_date)\n",
    "\n",
    "results_sens = compare_enrollment_registration(zipped_cats, offset=6)\n",
    "\n",
    "missing_sensitivity = pd.DataFrame(results_sens)"
   ]
  },
  {
   "cell_type": "code",
   "execution_count": null,
   "metadata": {},
   "outputs": [],
   "source": [
    "acct_sens = missing_sensitivity.accounted.to_list()\n",
    "unacct_sens = missing_sensitivity.unaccounted.to_list()\n",
    "\n",
    "accounted_count_sens = {}\n",
    "unaccounted_count_sens = {}\n",
    "for ac, un in zip(acct_sens, unacct_sens):\n",
    "    if ac:\n",
    "        for a in ac:\n",
    "            accounted_count_sens[a] = accounted_count_sens.get(a, 0) + 1\n",
    "    if un:\n",
    "        for u in un:\n",
    "            unaccounted_count_sens[u] = unaccounted_count_sens.get(u, 0) + 1\n",
    "            \n",
    "accounted_series_sens = pd.Series(accounted_count_sens)\n",
    "unaccounted_series_sens = pd.Series(unaccounted_count_sens)"
   ]
  },
  {
   "cell_type": "code",
   "execution_count": null,
   "metadata": {},
   "outputs": [],
   "source": [
    "reg_check_buffer = accounted_series_sens.to_frame().join(unaccounted_series_sens.to_frame(), how='outer', rsuffix='unac').rename({'0': 'accounted', '0unac': 'unaccounted'}, axis=1).fillna(0)\n",
    "\n",
    "reg_check_buffer['total'] = reg_check_buffer['accounted'] + reg_check_buffer['unaccounted']\n",
    "reg_check_buffer['acct_prct'] = round((reg_check_buffer['accounted'] / reg_check_buffer['total']) * 100, 2)\n",
    "\n",
    "reg_check_buffer.head()"
   ]
  },
  {
   "cell_type": "markdown",
   "metadata": {},
   "source": [
    "# Trend in Results Availability by registration year"
   ]
  },
  {
   "cell_type": "code",
   "execution_count": null,
   "metadata": {},
   "outputs": [],
   "source": [
    "reporting_by_country = analysis_df[['eudract_number', 'nca', 'entered_year', \n",
    "                                    'approved_year', 'trial_results']].reset_index(drop=True)\n",
    "\n",
    "reporting_by_country['results_dummy'] = np.where(reporting_by_country.trial_results == 'View results', 1, 0)"
   ]
  },
  {
   "cell_type": "code",
   "execution_count": null,
   "metadata": {},
   "outputs": [],
   "source": [
    "eu_protocol_count = reporting_by_country.groupby('eudract_number').count()[['nca']].reset_index()\n",
    "\n",
    "eu_protocol_count.columns = ['eudract_number', 'nca_count']"
   ]
  },
  {
   "cell_type": "markdown",
   "metadata": {},
   "source": [
    "Creating data for trials with only a single CTA"
   ]
  },
  {
   "cell_type": "code",
   "execution_count": null,
   "metadata": {},
   "outputs": [],
   "source": [
    "solo_merge = reporting_by_country.merge(eu_protocol_count, how='left', on='eudract_number')\n",
    "\n",
    "total = solo_merge[solo_merge.nca_count == 1][['nca', 'entered_year', 'results_dummy']].groupby(['nca', 'entered_year']).count().rename({'results_dummy': 'denominator'}, axis=1)\n",
    "\n",
    "reported = solo_merge[solo_merge.nca_count == 1][['nca', 'entered_year', 'results_dummy']].groupby(['nca', 'entered_year']).sum().rename({'results_dummy': 'numerator'}, axis=1)\n",
    "\n",
    "merged = total.join(reported)\n",
    "merged['unreported'] = merged.denominator - merged.numerator\n",
    "\n",
    "stacked = merged.drop('denominator', axis=1).stack().unstack(1)"
   ]
  },
  {
   "cell_type": "markdown",
   "metadata": {},
   "source": [
    "Creating data for trials with multiple CTAs"
   ]
  },
  {
   "cell_type": "code",
   "execution_count": null,
   "metadata": {},
   "outputs": [],
   "source": [
    "multi_set = solo_merge[solo_merge.nca_count > 1][['eudract_number', 'results_dummy', 'entered_year']].drop_duplicates()\n",
    "\n",
    "multi_group = multi_set.groupby('eudract_number', as_index=False).agg('min')[['entered_year', 'results_dummy']].groupby('entered_year').agg({'results_dummy':['count', 'sum']})['results_dummy']\n",
    "multi_group['prct'] = round((multi_group['sum'] / multi_group['count']) * 100, 2)"
   ]
  },
  {
   "cell_type": "code",
   "execution_count": null,
   "metadata": {},
   "outputs": [],
   "source": [
    "#Graphing the overall trend for single vs multiple CTA trials\n",
    "\n",
    "num = stacked.loc[pd.IndexSlice[:, 'numerator'], :].sum()\n",
    "denom = (num + stacked.loc[pd.IndexSlice[:, 'unreported'], :].sum())\n",
    "\n",
    "fig, ax = plt.subplots(figsize = (10,5))\n",
    "\n",
    "plt.plot(range(2004,2021), multi_group.prct, marker='.', markersize=10)\n",
    "plt.plot(range(2004,2021), ((num) / (denom)) * 100, marker='.', markersize=10)\n",
    "\n",
    "ax.set_xticks(range(2004,2021))\n",
    "\n",
    "ax.legend(['Multi-CTA', 'Single-CTA'], loc='upper right', fontsize=10)\n",
    "ax.set_axisbelow(True)\n",
    "ax.grid(zorder=0)\n",
    "\n",
    "plt.ylabel('Percent Reported')\n",
    "plt.xlabel('Earliest Record Entry Year', labelpad=10)\n",
    "\n",
    "plt.title('Results Availability by Year', pad=10)\n",
    "plt.show()"
   ]
  },
  {
   "cell_type": "code",
   "execution_count": null,
   "metadata": {},
   "outputs": [],
   "source": [
    "#Single CTAs for all NCAs...could turn this into lines as well potentially\n",
    "\n",
    "fig, axes = plt.subplots(figsize = (20, 16), nrows=7, ncols=4)\n",
    "fig.tight_layout()\n",
    "for x, y in enumerate(fig.axes):\n",
    "    stacked.loc[[ordered_countries[x]]].droplevel(level=0).T.plot.bar(stacked=True, ax=y, width=.9, legend=False,\n",
    "                                                                        sharex='col', title=ordered_countries[x])\n",
    "\n",
    "fig.legend(['Reported', 'Unreported'], \n",
    "           loc='upper center', ncol=5, bbox_to_anchor = (0.5, -0.01), fontsize=15)\n",
    "plt.show()"
   ]
  },
  {
   "cell_type": "markdown",
   "metadata": {},
   "source": [
    "Here we can also look at reporting by country for multiple trials (although this will double count trials as the same trial can appear across multiple CTAs."
   ]
  },
  {
   "cell_type": "code",
   "execution_count": null,
   "metadata": {},
   "outputs": [],
   "source": [
    "total_multi = solo_merge[solo_merge.nca_count > 1][['nca', 'entered_year', 'results_dummy']].groupby(['nca', 'entered_year']).count().rename({'results_dummy': 'denominator'}, axis=1)\n",
    "\n",
    "reported_multi = solo_merge[solo_merge.nca_count > 1][['nca', 'entered_year', 'results_dummy']].groupby(['nca', 'entered_year']).sum().rename({'results_dummy': 'numerator'}, axis=1)\n"
   ]
  },
  {
   "cell_type": "code",
   "execution_count": null,
   "metadata": {},
   "outputs": [],
   "source": [
    "merged_multi = total_multi.join(reported_multi)\n",
    "merged_multi['unreported'] = merged_multi.denominator - merged_multi.numerator\n",
    "\n",
    "stacked_multi = merged_multi.drop('denominator', axis=1).stack().unstack(1)"
   ]
  },
  {
   "cell_type": "code",
   "execution_count": null,
   "metadata": {},
   "outputs": [],
   "source": [
    "fig, ax = plt.subplots(figsize = (10,5))\n",
    "plt.bar(range(2004,2021), stacked_multi.loc[pd.IndexSlice[:, 'numerator'], :].sum())\n",
    "plt.bar(range(2004,2021), stacked_multi.loc[pd.IndexSlice[:, 'unreported'], :].sum(), bottom=stacked_multi.loc[pd.IndexSlice[:, 'numerator'], :].sum())\n",
    "ax.set_xticks(range(2004,2021))\n",
    "ax.legend(['Results Available', 'Results Unavailable'], \n",
    "           loc='upper left', fontsize=8)\n",
    "plt.title('Reporting by Multiple CTA Trials', pad=10)\n",
    "ax.set_axisbelow(True)\n",
    "ax.grid(axis='y', zorder=0)\n",
    "plt.show()"
   ]
  },
  {
   "cell_type": "code",
   "execution_count": null,
   "metadata": {},
   "outputs": [],
   "source": [
    "fig, axes = plt.subplots(figsize = (20, 16), nrows=7, ncols=4)\n",
    "fig.tight_layout()\n",
    "for x, y in enumerate(fig.axes):\n",
    "    stacked_multi.loc[[ordered_countries[x]]].droplevel(level=0).T.plot.bar(stacked=True, ax=y, width=.9, legend=False,\n",
    "                                                                        sharex='col', title=ordered_countries[x])\n",
    "\n",
    "fig.legend(['Reported', 'Unreported'], \n",
    "           loc='upper center', ncol=5, bbox_to_anchor = (0.5, -0.01), fontsize=15)\n",
    "plt.show()"
   ]
  },
  {
   "cell_type": "code",
   "execution_count": null,
   "metadata": {},
   "outputs": [],
   "source": []
  }
 ],
 "metadata": {
  "jupytext": {
   "cell_metadata_filter": "all",
   "notebook_metadata_filter": "all,-language_info",
   "text_representation": {
    "extension": ".py",
    "format_name": "light",
    "format_version": "1.5",
    "jupytext_version": "1.3.3"
   }
  },
  "kernelspec": {
   "display_name": "Python 3",
   "language": "python",
   "name": "python3"
  },
  "language_info": {
   "codemirror_mode": {
    "name": "ipython",
    "version": 3
   },
   "file_extension": ".py",
   "mimetype": "text/x-python",
   "name": "python",
   "nbconvert_exporter": "python",
   "pygments_lexer": "ipython3",
   "version": "3.8.1"
  }
 },
 "nbformat": 4,
 "nbformat_minor": 4
}
