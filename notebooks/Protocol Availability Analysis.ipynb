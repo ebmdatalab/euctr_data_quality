{
 "cells": [
  {
   "cell_type": "code",
   "execution_count": null,
   "id": "03f95a64-8c06-43ed-b9d5-c7b7ac561d0b",
   "metadata": {},
   "outputs": [],
   "source": [
    "import pandas as pd\n",
    "import re\n",
    "import matplotlib.pyplot as plt\n",
    "import numpy as np\n",
    "import ast\n",
    "\n",
    "from lib.functions_data import compare_enrollment_registration"
   ]
  },
  {
   "cell_type": "code",
   "execution_count": null,
   "id": "732b86c5-07c6-461e-8c1b-50cb73fd4e86",
   "metadata": {},
   "outputs": [],
   "source": [
    "import sys\n",
    "from pathlib import Path\n",
    "import os\n",
    "cwd = os.getcwd()\n",
    "parent = str(Path(cwd).parents[0])\n",
    "sys.path.append(parent)\n",
    "\n",
    "%matplotlib inline\n",
    "%load_ext autoreload\n",
    "%autoreload 2"
   ]
  },
  {
   "cell_type": "code",
   "execution_count": null,
   "id": "f50ba6ba-e794-423c-9b78-88b5c706c39d",
   "metadata": {},
   "outputs": [],
   "source": [
    "#This is the data scraped from the results section that informs this analysis\n",
    "results_info = pd.read_csv(parent + '/data/euctr_data_quality_results_scrape_dec_2020.csv')\n",
    "results_info['trial_start_date'] = pd.to_datetime(results_info.trial_start_date)\n",
    "results_info_filt = results_info[results_info.recruitment_countries.notnull()].reset_index(drop=True)"
   ]
  },
  {
   "cell_type": "code",
   "execution_count": null,
   "id": "670ce8ea-7168-4e31-bb70-95cb9f6dbbdc",
   "metadata": {},
   "outputs": [],
   "source": [
    "protocols = results_info_filt.trial_countries.to_list()\n",
    "results_countries = results_info_filt.recruitment_countries.to_list()\n",
    "start_date = results_info_filt.trial_start_date.to_list()\n",
    "trial_ids = results_info_filt.trial_id.to_list()\n",
    "\n",
    "zipped_cats = zip(trial_ids, protocols, results_countries, start_date)\n",
    "\n",
    "results_list = compare_enrollment_registration(zipped_cats)\n",
    "\n",
    "missing_protocols = pd.DataFrame(results_list)\n",
    "missing_protocols['total_missing'] = missing_protocols.unaccounted.apply(len)"
   ]
  },
  {
   "cell_type": "code",
   "execution_count": null,
   "id": "3c2025df-bc87-4e7f-a137-2c42000797ec",
   "metadata": {},
   "outputs": [],
   "source": [
    "acct = missing_protocols.accounted.to_list()\n",
    "unacct = missing_protocols.unaccounted.to_list()\n",
    "ids = missing_protocols.trial_id.to_list()"
   ]
  },
  {
   "cell_type": "code",
   "execution_count": null,
   "id": "89efd537-cdd4-45a2-a4c7-679bc53787a1",
   "metadata": {},
   "outputs": [],
   "source": [
    "#Counting missing protocols\n",
    "\n",
    "accounted_count = {}\n",
    "unaccounted_count = {}\n",
    "for ac, un in zip(acct, unacct):\n",
    "    if ac:\n",
    "        for a in ac:\n",
    "            accounted_count[a] = accounted_count.get(a, 0) + 1\n",
    "    if un:\n",
    "        for u in un:\n",
    "            unaccounted_count[u] = unaccounted_count.get(u, 0) + 1"
   ]
  },
  {
   "cell_type": "code",
   "execution_count": null,
   "id": "6065ae16-34d7-4478-b461-1bb479f61e7c",
   "metadata": {},
   "outputs": [],
   "source": [
    "#Lets see how many participants are covered by missing protocols\n",
    "\n",
    "unacct_enrollment = 0\n",
    "\n",
    "for u, rc in zip(unacct, results_countries):\n",
    "    rc_dict = ast.literal_eval(rc)\n",
    "    for uc in u:\n",
    "        unacct_enrollment += rc_dict[uc]\n",
    "\n",
    "print(f'There are {unacct_enrollment} participants covered by missing protocols')"
   ]
  },
  {
   "cell_type": "code",
   "execution_count": null,
   "id": "4cdd8491-1edd-45e3-807c-9b8cd7cdd133",
   "metadata": {},
   "outputs": [],
   "source": [
    "accounted_series = pd.Series(accounted_count)\n",
    "unaccounted_series = pd.Series(unaccounted_count)\n",
    "\n",
    "reg_check_no_buffer = accounted_series.to_frame().join(unaccounted_series.to_frame(), \n",
    "                                                       how='outer', rsuffix='unac').rename({'0': 'accounted', \n",
    "                                                                                            '0unac': 'unaccounted'}, \n",
    "                                                                                           axis=1).fillna(0)"
   ]
  },
  {
   "cell_type": "code",
   "execution_count": null,
   "id": "ca05d77e-eb5f-495f-8cb1-aa0fc52cac2f",
   "metadata": {},
   "outputs": [],
   "source": [
    "reg_check_no_buffer['total'] = reg_check_no_buffer['accounted'] + reg_check_no_buffer['unaccounted']\n",
    "\n",
    "reg_check_no_buffer['acct_prct'] = round((reg_check_no_buffer['accounted'] / reg_check_no_buffer['total']) * 100, 2)\n",
    "\n",
    "reg_check_no_buffer['unacct_prct'] = round((reg_check_no_buffer['unaccounted'] / reg_check_no_buffer['total']) * 100, 2)\n",
    "\n",
    "reg_check_no_buffer.sort_values(by='unaccounted', ascending=False)"
   ]
  },
  {
   "cell_type": "code",
   "execution_count": null,
   "id": "b25cddf7-757b-42ed-9aab-c1657bd47ec6",
   "metadata": {},
   "outputs": [],
   "source": [
    "print(f'{round((reg_check_no_buffer.accounted.sum() / reg_check_no_buffer.total.sum()) * 100,2)}% of expected protocols accounted for overall.')"
   ]
  },
  {
   "cell_type": "code",
   "execution_count": null,
   "id": "62ecbc1d-425a-4d14-a5a9-b432a5822965",
   "metadata": {},
   "outputs": [],
   "source": [
    "romania = reg_check_no_buffer.loc['Romania']['unaccounted'] \n",
    "poland = reg_check_no_buffer.loc['Poland']['unaccounted']\n",
    "france = reg_check_no_buffer.loc['France']['unaccounted']\n",
    "\n",
    "top_share = round(((france+poland+romania) / reg_check_no_buffer.unaccounted.sum()) * 100, 2)\n",
    "\n",
    "print(f'France, Poland, and Romania account for {top_share}% of all missing protocols')"
   ]
  },
  {
   "cell_type": "markdown",
   "id": "56584f78-af18-48f5-bfeb-15e828bf0c59",
   "metadata": {},
   "source": [
    "# Paper Figure 1"
   ]
  },
  {
   "cell_type": "code",
   "execution_count": null,
   "id": "1b52993d-0b99-42ae-9bd8-b3e25ed3ae59",
   "metadata": {},
   "outputs": [],
   "source": [
    "fig, ax = plt.subplots(figsize = (20,10), dpi=400)\n",
    "\n",
    "sorted_countries = reg_check_no_buffer.sort_values(by='total')\n",
    "sorted_countries[['accounted', 'unaccounted']].plot.bar(stacked=True, ax=ax,\n",
    "                                                        legend=False, width=.75)\n",
    "\n",
    "ax.set_axisbelow(True)\n",
    "ax.grid(axis='y', zorder=0)\n",
    "\n",
    "rects = ax.patches[0:30]\n",
    "\n",
    "for rect, label, y_off in zip(rects, sorted_countries.acct_prct.values, sorted_countries.total.values):\n",
    "    ax.text(rect.get_x() + rect.get_width() / 2, y_off + 25, str(label) + '%', \n",
    "            ha='center', va='bottom', fontsize=9)\n",
    "\n",
    "for patch in ax.patches[30:]:\n",
    "    patch.set_hatch('/')\n",
    "\n",
    "ax.legend(['Protocol Available', 'Protocol Unavailable'], \n",
    "           loc='upper left', fontsize=15)\n",
    "    \n",
    "\n",
    "#plt.title('CTA Availability for Reported Trials By Country', pad=10, fontsize=23)\n",
    "\n",
    "plt.ylabel('Record Count', fontsize=25, labelpad=6)\n",
    "    \n",
    "plt.show()\n",
    "#fig.savefig(parent + '/data/Figures/fig_1.jpg', bbox_inches='tight', dpi=400)\n",
    "#fig.savefig(parent + '/data/Figures/fig_1.eps', bbox_inches='tight', dpi=400)\n",
    "#saved"
   ]
  },
  {
   "cell_type": "markdown",
   "id": "be8043cd-171f-4b56-b5a3-202fed6106be",
   "metadata": {},
   "source": [
    "# Supplemental Figure 5\n",
    "\n",
    "This shows the distribution of missing protocols by record entry year but in absolute amount and as a % of all protocols available from that year."
   ]
  },
  {
   "cell_type": "code",
   "execution_count": null,
   "id": "f2fa4e37-bd8b-4a4b-a6c9-6b26a27ce7e8",
   "metadata": {},
   "outputs": [],
   "source": [
    "analysis_df = pd.read_csv(parent + '/data/analysis_df.csv', usecols = ['eudract_number', 'entered_year'])\n",
    "min_start_date = analysis_df.groupby('eudract_number', as_index=False).min()\n",
    "by_year_df = missing_protocols.merge(min_start_date, how='left', left_on='trial_id', right_on='eudract_number').drop('eudract_number', axis=1)\n",
    "grouped_overall = pd.read_csv(parent + '/data/grouped_overall.csv')"
   ]
  },
  {
   "cell_type": "code",
   "execution_count": null,
   "id": "cd80f1f0-96fb-4ca6-8f5d-4f4c26bf4727",
   "metadata": {},
   "outputs": [],
   "source": [
    "to_graph = by_year_df[['entered_year', 'total_missing']].groupby('entered_year').sum()\n",
    "to_graph.index = to_graph.index.astype(int)\n",
    "\n",
    "prct_missing = grouped_overall.merge(to_graph, on='entered_year').set_index('entered_year')\n",
    "prct_missing['missing_cta_prct'] = (prct_missing.total_missing / prct_missing.eudract_number) * 100"
   ]
  },
  {
   "cell_type": "code",
   "execution_count": null,
   "id": "dd8ff01f-4e4c-4a60-90ca-fc88cfe6a5f2",
   "metadata": {},
   "outputs": [],
   "source": [
    "fig, ax = plt.subplots(figsize=(24,12), dpi = 400)\n",
    "\n",
    "labels = [str(x) for x in range(2004,2021)]\n",
    "\n",
    "#I have no idea why but I can only get this graph to work with plt.errorbar\n",
    "#l1 = plt.errorbar(prct_missing.index,prct_missing.missing_cta_prct, lw=5, color='orange', label='% Missing')\n",
    "l1 = ax.plot(prct_missing.index,prct_missing.missing_cta_prct, marker='.', markersize=25, lw=5, color='C1', \n",
    "             label='% Missing')\n",
    "\n",
    "plt.tick_params(axis='both', which='major', labelsize=15)\n",
    "#plt.ylabel('# of Missing Trials', fontsize=25, labelpad=10)\n",
    "plt.xticks(rotation=25)\n",
    "plt.title(\"Missing Protocols by Trial Entry Year\", pad = 25, fontsize = 25)\n",
    "\n",
    "ax.set_ylim([0,10])\n",
    "ax.set_ylabel('# Missing', fontsize=25, labelpad=50)\n",
    "ax.set_xlabel('Record Entry Year', fontsize=25, labelpad=10)\n",
    "\n",
    "ax2 = plt.twinx()\n",
    "ax2.set_axisbelow(True)\n",
    "#ax.yaxis.grid(linestyle='--', linewidth=.5, zorder=ax.get_zorder()-10)\n",
    "ax2.bar(to_graph.index, to_graph.total_missing, tick_label=labels)\n",
    "ax2.tick_params(axis='both', which='major', labelsize=15)\n",
    "ax2.set_ylabel('% Missing', fontsize=25, labelpad=30)\n",
    "\n",
    "ax.yaxis.tick_right()\n",
    "ax2.yaxis.tick_left()\n",
    "\n",
    "ax.set_zorder(ax2.get_zorder()+1)\n",
    "ax.patch.set_visible(False)\n",
    "\n",
    "import matplotlib.patches as mpatches\n",
    "from matplotlib.lines import Line2D\n",
    "blue_patch = mpatches.Patch(color='C0', label='# Missing')\n",
    "orange_line = Line2D([0],[0], color='C1', lw=5, label='% Missing', marker='.', markersize=25)\n",
    "\n",
    "ax.legend(handles=[blue_patch, orange_line], fontsize=20)\n",
    "\n",
    "plt.show()\n",
    "#fig.savefig(parent + '/data/Figures/fig_s5.jpg', bbox_inches='tight', dpi=400)\n",
    "#Saved"
   ]
  },
  {
   "cell_type": "markdown",
   "id": "dda374bf-5907-494f-bb22-e5722734bc06",
   "metadata": {},
   "source": [
    "# Demo on how to move inclusion date around"
   ]
  },
  {
   "cell_type": "markdown",
   "id": "9062b083-3014-41a3-9292-3ca946b4a99e",
   "metadata": {},
   "source": [
    "As a quick sense check, we can use longer lags between the first available protocol for a country to see if it makes a difference. This can be adjusted using the offseet parameter of the custom compare_enrollment_registration function. However, Supplemental Figure 5 above makes the point that missing protocols are not all clustered around the years in which countries first connected with the EMA system in a better way for the paper. Still a demo on how to look at various date offsets regarding which protocols to include in the analysis is provided below."
   ]
  },
  {
   "cell_type": "code",
   "execution_count": null,
   "id": "9289f6dd-1f97-4873-b98c-7db5668ea250",
   "metadata": {},
   "outputs": [],
   "source": [
    "protocols = results_info_filt.trial_countries.to_list()\n",
    "results_countries = results_info_filt.recruitment_countries.to_list()\n",
    "start_date = results_info_filt.trial_start_date.to_list()\n",
    "trial_ids = results_info_filt.trial_id.to_list()\n",
    "\n",
    "zipped_cats = zip(trial_ids, protocols, results_countries, start_date)\n",
    "\n",
    "results_sens = compare_enrollment_registration(zipped_cats, offset=6)\n",
    "\n",
    "missing_sensitivity = pd.DataFrame(results_sens)"
   ]
  },
  {
   "cell_type": "code",
   "execution_count": null,
   "id": "480ed299-028d-4bfd-82ab-1bf198b5d083",
   "metadata": {},
   "outputs": [],
   "source": [
    "acct_sens = missing_sensitivity.accounted.to_list()\n",
    "unacct_sens = missing_sensitivity.unaccounted.to_list()\n",
    "\n",
    "accounted_count_sens = {}\n",
    "unaccounted_count_sens = {}\n",
    "for ac, un in zip(acct_sens, unacct_sens):\n",
    "    if ac:\n",
    "        for a in ac:\n",
    "            accounted_count_sens[a] = accounted_count_sens.get(a, 0) + 1\n",
    "    if un:\n",
    "        for u in un:\n",
    "            unaccounted_count_sens[u] = unaccounted_count_sens.get(u, 0) + 1\n",
    "            \n",
    "accounted_series_sens = pd.Series(accounted_count_sens)\n",
    "unaccounted_series_sens = pd.Series(unaccounted_count_sens)"
   ]
  },
  {
   "cell_type": "code",
   "execution_count": null,
   "id": "079c210e-cb85-41a9-822b-9b32d2472646",
   "metadata": {
    "lines_to_next_cell": 2
   },
   "outputs": [],
   "source": [
    "reg_check_buffer = accounted_series_sens.to_frame().join(unaccounted_series_sens.to_frame(), how='outer', rsuffix='unac').rename({'0': 'accounted', '0unac': 'unaccounted'}, axis=1).fillna(0)\n",
    "\n",
    "reg_check_buffer['total'] = reg_check_buffer['accounted'] + reg_check_buffer['unaccounted']\n",
    "reg_check_buffer['acct_prct'] = round((reg_check_buffer['accounted'] / reg_check_buffer['total']) * 100, 2)\n",
    "\n",
    "reg_check_buffer.head()"
   ]
  },
  {
   "cell_type": "code",
   "execution_count": null,
   "id": "6d3a0ccd-d49f-4299-a05b-fb600627fa9c",
   "metadata": {},
   "outputs": [],
   "source": [
    "\n"
   ]
  }
 ],
 "metadata": {
  "jupytext": {
   "cell_metadata_filter": "all",
   "notebook_metadata_filter": "all,-language_info",
   "text_representation": {
    "extension": ".py",
    "format_name": "light",
    "format_version": "1.5",
    "jupytext_version": "1.11.2"
   }
  },
  "kernelspec": {
   "display_name": "Python 3",
   "language": "python",
   "name": "python3"
  },
  "language_info": {
   "codemirror_mode": {
    "name": "ipython",
    "version": 3
   },
   "file_extension": ".py",
   "mimetype": "text/x-python",
   "name": "python",
   "nbconvert_exporter": "python",
   "pygments_lexer": "ipython3",
   "version": "3.8.1"
  }
 },
 "nbformat": 4,
 "nbformat_minor": 5
}
