{
 "cells": [
  {
   "cell_type": "code",
   "execution_count": null,
   "id": "301927ca-0892-4b67-84d2-521e9444e789",
   "metadata": {},
   "outputs": [],
   "source": [
    "import pandas as pd\n",
    "import matplotlib.pyplot as plt\n",
    "import numpy as np\n",
    "\n",
    "from lib.functions_data import ordered_countries_original, ordered_countries_new"
   ]
  },
  {
   "cell_type": "code",
   "execution_count": null,
   "id": "e64e7356-16ce-4325-b1f3-26d713af4d98",
   "metadata": {},
   "outputs": [],
   "source": [
    "import sys\n",
    "from pathlib import Path\n",
    "import os\n",
    "cwd = os.getcwd()\n",
    "parent = str(Path(cwd).parents[0])\n",
    "sys.path.append(parent)\n",
    "\n",
    "%matplotlib inline\n",
    "%load_ext autoreload\n",
    "%autoreload 2"
   ]
  },
  {
   "cell_type": "code",
   "execution_count": null,
   "id": "61e71e4e-4be8-4890-a9c3-9c199ef70285",
   "metadata": {},
   "outputs": [],
   "source": [
    "#Removing these for low number of trials\n",
    "ordered_countries_new.remove('Malta - ADM')\n",
    "ordered_countries_new.remove('Luxembourg - Ministry of Health')\n",
    "ordered_countries_new.remove('Cyprus - MoH-Ph.S')"
   ]
  },
  {
   "cell_type": "code",
   "execution_count": null,
   "id": "38a5c23b-ad5e-42e8-81ef-3d5e8a1c1847",
   "metadata": {},
   "outputs": [],
   "source": [
    "usecols = ['eudract_number', 'nca', 'entered_year', 'trial_results']\n",
    "reporting_by_country = pd.read_csv(parent + '/data/analysis_df.csv', usecols = usecols)\n",
    "reporting_by_country['results_dummy'] = np.where(reporting_by_country.trial_results == 'View results', 1, 0)"
   ]
  },
  {
   "cell_type": "code",
   "execution_count": null,
   "id": "0669e6e1-32c7-4ed1-b680-9758a03ebe3d",
   "metadata": {},
   "outputs": [],
   "source": [
    "trial_reporting = reporting_by_country[['eudract_number', 'results_dummy']].groupby('eudract_number').sum()\n",
    "trial_reporting = trial_reporting.join(reporting_by_country.groupby('eudract_number').count()[['nca']])\n",
    "trial_reporting = trial_reporting.join(reporting_by_country[['eudract_number', 'entered_year']].groupby('eudract_number').max()[['entered_year']])\n",
    "trial_reporting['results_dummy'] = np.where(trial_reporting.results_dummy > 0, 1, 0)"
   ]
  },
  {
   "cell_type": "code",
   "execution_count": null,
   "id": "b682e8b2-264b-4673-91a2-5fbd82f95148",
   "metadata": {},
   "outputs": [],
   "source": [
    "single_cta = trial_reporting[trial_reporting.nca == 1][['entered_year', 'results_dummy']].groupby('entered_year').agg(['sum', 'count'])\n",
    "single_cta['reporting_prct'] = round((single_cta.results_dummy['sum'] / single_cta.results_dummy['count']) * 100, 2)"
   ]
  },
  {
   "cell_type": "code",
   "execution_count": null,
   "id": "56de4b28-261d-4ed3-8aa6-a195af9ac2f1",
   "metadata": {},
   "outputs": [],
   "source": [
    "multi_cta = trial_reporting[trial_reporting.nca > 1][['entered_year', 'results_dummy']].groupby('entered_year').agg(['sum', 'count'])\n",
    "multi_cta['reporting_prct'] = round((multi_cta.results_dummy['sum'] / multi_cta.results_dummy['count']) * 100, 2)"
   ]
  },
  {
   "cell_type": "code",
   "execution_count": null,
   "id": "a87307f7-67dc-497a-9945-35ea0f07ec1f",
   "metadata": {},
   "outputs": [],
   "source": [
    "all_trial_reporting = trial_reporting[['entered_year', 'results_dummy']].groupby('entered_year').agg(['sum', 'count'])\n",
    "all_trial_reporting['reporting_prct'] = round((all_trial_reporting.results_dummy['sum'] / all_trial_reporting.results_dummy['count']) * 100, 2)"
   ]
  },
  {
   "cell_type": "code",
   "execution_count": null,
   "id": "b9ee2132-3d1c-4b12-8b8a-3ad7862ef595",
   "metadata": {},
   "outputs": [],
   "source": [
    "print(len(trial_reporting[trial_reporting.nca == 1]))\n",
    "print(len(trial_reporting[trial_reporting.nca > 1]))\n",
    "print(len(trial_reporting))"
   ]
  },
  {
   "cell_type": "code",
   "execution_count": null,
   "id": "7d93c068-070e-4404-b2be-d17876249bab",
   "metadata": {},
   "outputs": [],
   "source": [
    "print(trial_reporting[trial_reporting.nca == 1].results_dummy.sum())\n",
    "print(6259/23623)"
   ]
  },
  {
   "cell_type": "code",
   "execution_count": null,
   "id": "4b3eec95-6c4b-4f6c-bb6c-69a110ecffbb",
   "metadata": {},
   "outputs": [],
   "source": [
    "trial_reporting[trial_reporting.nca > 1].results_dummy.sum()\n",
    "print(8423/13897)"
   ]
  },
  {
   "cell_type": "code",
   "execution_count": null,
   "id": "e5eb04cf-4a70-48b5-a546-b8492f1e433e",
   "metadata": {},
   "outputs": [],
   "source": [
    "trial_reporting.results_dummy.sum()"
   ]
  },
  {
   "cell_type": "code",
   "execution_count": null,
   "id": "001eedaa-96f7-451d-9782-39cf601f320f",
   "metadata": {},
   "outputs": [],
   "source": [
    "trial_reporting[trial_reporting.nca == 1].results_dummy.sum()\n",
    "print(6259/14682)"
   ]
  },
  {
   "cell_type": "markdown",
   "id": "99cb79ce-e4cd-4c1a-b8ce-a25b513b4e59",
   "metadata": {},
   "source": [
    "# Overall reporting trend - Supplemental Figure 11"
   ]
  },
  {
   "cell_type": "code",
   "execution_count": null,
   "id": "d244f041-8309-4fea-89e1-5895abd1d587",
   "metadata": {},
   "outputs": [],
   "source": [
    "#Graphing the overall trend for single vs multiple CTA trials\n",
    "\n",
    "fig, ax = plt.subplots(figsize = (10,5), dpi=400)\n",
    "\n",
    "plt.plot(range(2004,2021), multi_cta['reporting_prct'], marker='.', markersize=10)\n",
    "plt.plot(range(2004,2021), single_cta['reporting_prct'], marker='^', markersize=10)\n",
    "plt.plot(range(2004,2021), all_trial_reporting['reporting_prct'], marker='s', markersize=10, lw=4, alpha=.3)\n",
    "\n",
    "ax.set_xticks(range(2004,2021))\n",
    "\n",
    "ax.legend(['Multi-Protocol Trials', 'Single-Protocol Trials', 'All Trials'], loc='upper right', fontsize=10)\n",
    "ax.set_axisbelow(True)\n",
    "ax.grid(zorder=0)\n",
    "\n",
    "plt.ylabel('Percent Reported')\n",
    "plt.xlabel('Latest Record Entry Year', labelpad=10)\n",
    "plt.ylim(0,100)\n",
    "\n",
    "plt.title('Results Availability by Year', pad=10)\n",
    "\n",
    "plt.show()\n",
    "#fig.savefig(parent + '/data/Figures/fig_s11.jpg', bbox_inches='tight', dpi=400)\n",
    "#Saved"
   ]
  },
  {
   "cell_type": "code",
   "execution_count": null,
   "id": "f413bd4e-eec9-4d29-bc44-8d373f5b65aa",
   "metadata": {},
   "outputs": [],
   "source": [
    "eu_protocol_count= reporting_by_country.groupby('eudract_number').count()[['nca']].reset_index()\n",
    "\n",
    "eu_protocol_count.columns = ['eudract_number', 'nca_count']"
   ]
  },
  {
   "cell_type": "markdown",
   "id": "00a601b0-bc7f-426e-94b0-ce53d0296848",
   "metadata": {},
   "source": [
    "Creating data for trials with only a single CTA"
   ]
  },
  {
   "cell_type": "code",
   "execution_count": null,
   "id": "9793668e-0198-4158-a9fd-021da0b0f92a",
   "metadata": {},
   "outputs": [],
   "source": [
    "solo_merge = reporting_by_country.merge(eu_protocol_count, how='left', on='eudract_number')\n",
    "\n",
    "total = solo_merge[solo_merge.nca_count == 1][['nca', 'entered_year', 'results_dummy']].groupby(['nca', 'entered_year']).count().rename({'results_dummy': 'denominator'}, axis=1)\n",
    "\n",
    "reported = solo_merge[solo_merge.nca_count == 1][['nca', 'entered_year', 'results_dummy']].groupby(['nca', 'entered_year']).sum().rename({'results_dummy': 'numerator'}, axis=1)\n",
    "\n",
    "merged = total.join(reported)\n",
    "merged['unreported'] = merged.denominator - merged.numerator\n",
    "\n",
    "stacked = merged.drop('denominator', axis=1).stack().unstack(1)"
   ]
  },
  {
   "cell_type": "markdown",
   "id": "926bdd12-534c-4d39-8615-2c7817a26383",
   "metadata": {},
   "source": [
    "Creating data for trials with multiple CTAs"
   ]
  },
  {
   "cell_type": "code",
   "execution_count": null,
   "id": "c215146a-71c6-402a-a7e0-71d521561149",
   "metadata": {},
   "outputs": [],
   "source": [
    "multi_set = solo_merge[solo_merge.nca_count > 1][['eudract_number', 'results_dummy', 'entered_year']].drop_duplicates()\n",
    "\n",
    "multi_group = multi_set.groupby('eudract_number', as_index=False).agg('min')[['entered_year', 'results_dummy']].groupby('entered_year').agg({'results_dummy':['count', 'sum']})['results_dummy']\n",
    "multi_group['prct'] = round((multi_group['sum'] / multi_group['count']) * 100, 2)"
   ]
  },
  {
   "cell_type": "markdown",
   "id": "0f0436bc-73cb-47cc-ae50-7c4d26f3bc01",
   "metadata": {},
   "source": [
    "Creating for all CTAs"
   ]
  },
  {
   "cell_type": "code",
   "execution_count": null,
   "id": "7900ec61-1af6-47dd-b42b-5501a1b38b13",
   "metadata": {},
   "outputs": [],
   "source": [
    "#Get the sum of any NCA with this\n",
    "stacked.loc['Romania - ANMDM'].sum().sum()"
   ]
  },
  {
   "cell_type": "code",
   "execution_count": null,
   "id": "1c169c2d-2a7f-4488-8f09-9f7ccf1bde2c",
   "metadata": {},
   "outputs": [],
   "source": [
    "single_cta_reporting = {}\n",
    "\n",
    "for x in ordered_countries_new:\n",
    "    d_r = stacked.loc[x].T\n",
    "    num = d_r.numerator.sum()\n",
    "    denom = num + d_r.unreported.sum()\n",
    "    single_cta_reporting[x] = num / denom\n",
    "\n",
    "rankings_reporting = pd.Series(single_cta_reporting).sort_values(ascending=False)\n",
    "rankings_reporting"
   ]
  },
  {
   "cell_type": "markdown",
   "id": "b535f62e-330e-4f2b-b107-ab9163ab9d2f",
   "metadata": {},
   "source": [
    "# Figure 5"
   ]
  },
  {
   "cell_type": "code",
   "execution_count": null,
   "id": "b581c220-eb1a-4abc-a7bd-a0d9ae60b55e",
   "metadata": {
    "lines_to_next_cell": 0
   },
   "outputs": [],
   "source": [
    "#Single CTAs for all NCAs...could turn this into lines as well potentially\n",
    "\n",
    "fig, axes = plt.subplots(figsize = (20, 16), nrows=7, ncols=4, dpi=400)\n",
    "#fig.suptitle(\"Proportion of Single-CTA Trials Reported by Year\", y=1.02, fontsize=23)\n",
    "fig.tight_layout()\n",
    "for x, y in enumerate(fig.axes):\n",
    "    stacked.loc[[rankings_reporting.index[x]]].droplevel(level=0).T.plot.bar(stacked=True, ax=y, width=.9, legend=False,\n",
    "                                                                        sharex='col', rot=45)\n",
    "    \n",
    "    y.set_title(rankings_reporting.index[x], pad=6, fontsize=16)\n",
    "    y.set_axisbelow(True)\n",
    "    y.grid(axis='y', zorder=0)\n",
    "    y.set_xlabel('')\n",
    "    \n",
    "    hatches = ['','//']\n",
    "    counter = 0\n",
    "    h_counter = 0\n",
    "    patch_count = len(y.patches)\n",
    "    for p in y.patches:\n",
    "        p.set_hatch(hatches[h_counter])\n",
    "        counter += 1\n",
    "        if counter == ((patch_count/2) * (h_counter+1)):\n",
    "            h_counter += 1\n",
    "\n",
    "plt.legend(['Reported', 'Unreported'], \n",
    "           loc='lower center', ncol=5, bbox_to_anchor = (-1.25, -.9), fontsize=15)\n",
    "\n",
    "fig.text(-0.015, 0.5, 'Record Count', ha='center', va='center', rotation='vertical', fontsize=20)\n",
    "fig.text(.5, -0.02, 'Record Entry Year', ha='center', va='center', fontsize=20)\n",
    "\n",
    "plt.show()\n",
    "#fig.savefig(parent + '/data/Figures/fig_5.jpg', bbox_inches='tight', dpi=400)\n",
    "#fig.savefig(parent + '/data/Figures/fig_5.eps', bbox_inches='tight', dpi=400)\n",
    "#Saved"
   ]
  },
  {
   "cell_type": "code",
   "execution_count": null,
   "id": "ae4806e7-f63e-494a-ab12-24c8e4f10d59",
   "metadata": {
    "lines_to_next_cell": 2
   },
   "outputs": [],
   "source": []
  }
 ],
 "metadata": {
  "jupytext": {
   "cell_metadata_filter": "all",
   "notebook_metadata_filter": "all,-language_info",
   "text_representation": {
    "extension": ".py",
    "format_name": "light",
    "format_version": "1.5",
    "jupytext_version": "1.11.2"
   }
  },
  "kernelspec": {
   "display_name": "Python 3",
   "language": "python",
   "name": "python3"
  },
  "language_info": {
   "codemirror_mode": {
    "name": "ipython",
    "version": 3
   },
   "file_extension": ".py",
   "mimetype": "text/x-python",
   "name": "python",
   "nbconvert_exporter": "python",
   "pygments_lexer": "ipython3",
   "version": "3.8.1"
  }
 },
 "nbformat": 4,
 "nbformat_minor": 5
}
